{
 "cells": [
  {
   "cell_type": "code",
   "execution_count": 2,
   "id": "2ee3e8d8",
   "metadata": {
    "colab": {
     "base_uri": "https://localhost:8080/"
    },
    "execution": {
     "iopub.execute_input": "2024-03-29T17:04:06.423902Z",
     "iopub.status.busy": "2024-03-29T17:04:06.423751Z",
     "iopub.status.idle": "2024-03-29T17:04:08.385049Z",
     "shell.execute_reply": "2024-03-29T17:04:08.384670Z",
     "shell.execute_reply.started": "2024-03-29T17:04:06.423883Z"
    },
    "id": "2ee3e8d8",
    "outputId": "70fb72fd-3bc0-4ac3-a828-78ea139581b1",
    "tags": []
   },
   "outputs": [
    {
     "name": "stderr",
     "output_type": "stream",
     "text": [
      "[nltk_data] Downloading package stopwords to /home/vadim/nltk_data...\n",
      "[nltk_data]   Package stopwords is already up-to-date!\n"
     ]
    }
   ],
   "source": [
    "import time\n",
    "import numpy as np\n",
    "import pandas as pd\n",
    "from tqdm import tqdm\n",
    "from string import punctuation\n",
    "import matplotlib.pyplot as plt\n",
    "from collections import Counter, OrderedDict\n",
    "from IPython.display import clear_output\n",
    "\n",
    "import torch\n",
    "import torch.nn as nn\n",
    "import torch.nn.functional as F\n",
    "from torch.utils.data import DataLoader, Dataset\n",
    "from torch.nn.utils.rnn import pad_sequence\n",
    "\n",
    "from sklearn.model_selection import train_test_split\n",
    "from sklearn.preprocessing import MinMaxScaler\n",
    "from sklearn.model_selection import train_test_split\n",
    "\n",
    "import torchtext\n",
    "from torchtext.data.utils import get_tokenizer\n",
    "\n",
    "import seaborn as sns\n",
    "\n",
    "sns.set(palette=\"Set2\")\n",
    "sns.set_style(\"whitegrid\")\n",
    "\n",
    "import nltk\n",
    "\n",
    "nltk.download(\"stopwords\")\n",
    "\n",
    "device = (\n",
    "    \"mps\"\n",
    "    if torch.backends.mps.is_available()\n",
    "    else \"cuda\" if torch.cuda.is_available() else \"cpu\"\n",
    ")"
   ]
  },
  {
   "cell_type": "markdown",
   "id": "f2a21b25",
   "metadata": {
    "id": "f2a21b25"
   },
   "source": [
    "Перед выполнением задания обязательно посмотрите <a href=\"https://miptstats.github.io/courses/ad_fivt/lecture6.pdf\" target=\"_blank\">презентацию</a>, [ноутбук](https://miptstats.github.io/courses/ad_fivt/nlp_sem.html) по RNN и [ноутбук](https://miptstats.github.io/courses/ad_fivt/nlp_sem_llama.html) по генерации текста."
   ]
  },
  {
   "cell_type": "markdown",
   "id": "9045cb13",
   "metadata": {
    "id": "9045cb13"
   },
   "source": [
    "---\n",
    "### Задача 1. Предсказание заработной платы\n"
   ]
  },
  {
   "cell_type": "markdown",
   "id": "66815083",
   "metadata": {
    "id": "66815083"
   },
   "source": [
    "В этой задаче вам предлагается решить задачу регрессии &mdash; по текстовому описанию вакансии определить заработную плату. Для решения такой задачи можно применять различные методы, в том числе и те, которые были рассмотрены на лекции.\n",
    "Мы будем решать эту задачу с помощью рекуррентной нейронной сети."
   ]
  },
  {
   "cell_type": "markdown",
   "id": "f1fc7637",
   "metadata": {
    "id": "f1fc7637"
   },
   "source": [
    "Датасет `salary_dataset.csv` лежит по <a target=\"_blank\" href=\"https://drive.google.com/file/d/1Q3lCw_8Uad_OzHCjvLeYRvamXR74UPbW/view?usp=sharing\">ссылке</a> (312.3 MB).\n",
    "\n",
    "Если вы работаете локально:\n",
    "\n",
    "> Просто скачайте этот файл и укажите пути к ним ниже.\n",
    "\n",
    "\n",
    "Если вы используете <a target=\"_blank\" href=\"https://colab.research.google.com/\">Colab</a>:\n",
    "> **Скачивать файл не обязательно**. Просто подключитесь к Google Drive:\n",
    ">\n",
    "> ```\n",
    "> from google.colab import drive\n",
    "> drive.mount('/content/drive/')\n",
    "> ```\n",
    ">\n",
    "> Перейдите по ссылке файла и добавьте shortcut на него в ваш собственный диск:\n",
    "> ![Screen Shot 2024-03-17 at 5.34.40 PM.png](data:image/png;base64,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)"
   ]
  },
  {
   "cell_type": "markdown",
   "id": "a2f8e4ae",
   "metadata": {
    "id": "a2f8e4ae"
   },
   "source": [
    "Скачаем данные для обучения и тестирования:"
   ]
  },
  {
   "cell_type": "code",
   "execution_count": 4,
   "id": "04bee2a7",
   "metadata": {
    "execution": {
     "iopub.execute_input": "2024-03-29T17:04:29.655924Z",
     "iopub.status.busy": "2024-03-29T17:04:29.655708Z",
     "iopub.status.idle": "2024-03-29T17:04:31.530432Z",
     "shell.execute_reply": "2024-03-29T17:04:31.530042Z",
     "shell.execute_reply.started": "2024-03-29T17:04:29.655906Z"
    },
    "id": "04bee2a7",
    "tags": []
   },
   "outputs": [
    {
     "data": {
      "text/html": [
       "<div>\n",
       "<style scoped>\n",
       "    .dataframe tbody tr th:only-of-type {\n",
       "        vertical-align: middle;\n",
       "    }\n",
       "\n",
       "    .dataframe tbody tr th {\n",
       "        vertical-align: top;\n",
       "    }\n",
       "\n",
       "    .dataframe thead th {\n",
       "        text-align: right;\n",
       "    }\n",
       "</style>\n",
       "<table border=\"1\" class=\"dataframe\">\n",
       "  <thead>\n",
       "    <tr style=\"text-align: right;\">\n",
       "      <th></th>\n",
       "      <th>FullDescription</th>\n",
       "      <th>SalaryNormalized</th>\n",
       "    </tr>\n",
       "  </thead>\n",
       "  <tbody>\n",
       "    <tr>\n",
       "      <th>0</th>\n",
       "      <td>This is an exciting opportunity for a Recruite...</td>\n",
       "      <td>55000</td>\n",
       "    </tr>\n",
       "    <tr>\n",
       "      <th>1</th>\n",
       "      <td>Our client is looking for a .net web developer...</td>\n",
       "      <td>27500</td>\n",
       "    </tr>\n",
       "    <tr>\n",
       "      <th>2</th>\n",
       "      <td>MS SQL Database Administrator  Helsinki, Finla...</td>\n",
       "      <td>72098</td>\n",
       "    </tr>\n",
       "    <tr>\n",
       "      <th>3</th>\n",
       "      <td>ACADEMIC APPOINTMENTS A large secondary school...</td>\n",
       "      <td>32400</td>\n",
       "    </tr>\n",
       "    <tr>\n",
       "      <th>4</th>\n",
       "      <td>Head of User Experience  c. ****k / London A H...</td>\n",
       "      <td>67500</td>\n",
       "    </tr>\n",
       "  </tbody>\n",
       "</table>\n",
       "</div>"
      ],
      "text/plain": [
       "                                     FullDescription  SalaryNormalized\n",
       "0  This is an exciting opportunity for a Recruite...             55000\n",
       "1  Our client is looking for a .net web developer...             27500\n",
       "2  MS SQL Database Administrator  Helsinki, Finla...             72098\n",
       "3  ACADEMIC APPOINTMENTS A large secondary school...             32400\n",
       "4  Head of User Experience  c. ****k / London A H...             67500"
      ]
     },
     "execution_count": 4,
     "metadata": {},
     "output_type": "execute_result"
    }
   ],
   "source": [
    "dataset = pd.read_csv('salary_dataset.csv')\n",
    "dataset.head()"
   ]
  },
  {
   "cell_type": "markdown",
   "id": "62f7f530",
   "metadata": {
    "id": "62f7f530"
   },
   "source": [
    "Каждая строка содержит полное описание вакансии и соответствующую зарплату. При этом описания могут быть довольно длинными, например:"
   ]
  },
  {
   "cell_type": "code",
   "execution_count": 5,
   "id": "7176a287",
   "metadata": {
    "execution": {
     "iopub.execute_input": "2024-03-29T17:04:32.524674Z",
     "iopub.status.busy": "2024-03-29T17:04:32.524470Z",
     "iopub.status.idle": "2024-03-29T17:04:32.528312Z",
     "shell.execute_reply": "2024-03-29T17:04:32.527678Z",
     "shell.execute_reply.started": "2024-03-29T17:04:32.524656Z"
    },
    "id": "7176a287",
    "tags": []
   },
   "outputs": [
    {
     "data": {
      "text/plain": [
       "'This is an exciting opportunity for a Recruiter to join a rapidly growing online retailer. You will be responsible for developing and executing recruiting plans across the company. Your key accountabilities will include creating job descriptions, working closely with hiring managers, reducing recruitment costs, coordinating and implementing university recruitment initiatives and networking with industry contacts. You should be of graduate calibre with a track record in recruitment ideally gained in a fast moving start up environment. Experience of working in an online company would be a distinct advantage. Our client is an online retailer operating in the UK and in Continental Europe. This job was originally posted as www.totaljobs.com/JobSeeking/RecruitmentManager_job****'"
      ]
     },
     "execution_count": 5,
     "metadata": {},
     "output_type": "execute_result"
    }
   ],
   "source": [
    "dataset.iloc[0][\"FullDescription\"]"
   ]
  },
  {
   "cell_type": "markdown",
   "id": "da5b0061",
   "metadata": {
    "id": "da5b0061"
   },
   "source": [
    "Для данной задачи нам не будут нужны служебные части речи и знаки пунктуации. Зададим токенизатор, списки стоп-слов и пунктуации."
   ]
  },
  {
   "cell_type": "code",
   "execution_count": 6,
   "id": "63fd6175",
   "metadata": {
    "execution": {
     "iopub.execute_input": "2024-03-29T17:04:34.084259Z",
     "iopub.status.busy": "2024-03-29T17:04:34.083946Z",
     "iopub.status.idle": "2024-03-29T17:04:34.747484Z",
     "shell.execute_reply": "2024-03-29T17:04:34.747054Z",
     "shell.execute_reply.started": "2024-03-29T17:04:34.084231Z"
    },
    "id": "63fd6175",
    "tags": []
   },
   "outputs": [],
   "source": [
    "# Зададим токенизаторы\n",
    "tokenizer = get_tokenizer(\"spacy\", language=\"en_core_web_sm\")\n",
    "stop_words = nltk.corpus.stopwords.words(\"english\")  # стоп-слова\n",
    "punc = list(punctuation)  # пунктуация"
   ]
  },
  {
   "cell_type": "markdown",
   "id": "34d7fa9a",
   "metadata": {
    "id": "34d7fa9a"
   },
   "source": [
    "Подготовьте словарь, оставив в нем только наиболее часто встречающиеся токены. Не забудьте предварительно убрать из предложений знаки пунктуации и стоп-слова.\n",
    "\n",
    "*Можно использовать код с [семинара](https://miptstats.github.io/courses/ad_fivt/nlp_sem.html).*"
   ]
  },
  {
   "cell_type": "code",
   "execution_count": 7,
   "id": "a8185269",
   "metadata": {
    "execution": {
     "iopub.execute_input": "2024-03-29T17:04:34.918981Z",
     "iopub.status.busy": "2024-03-29T17:04:34.918696Z",
     "iopub.status.idle": "2024-03-29T17:06:38.087620Z",
     "shell.execute_reply": "2024-03-29T17:06:38.087151Z",
     "shell.execute_reply.started": "2024-03-29T17:04:34.918963Z"
    },
    "id": "a8185269",
    "tags": []
   },
   "outputs": [],
   "source": [
    "# зададим счетчики\n",
    "counter = Counter()\n",
    "\n",
    "# посчитаем количество вхождений каждого токена\n",
    "for text in dataset[\"FullDescription\"]:\n",
    "    counter.update(\n",
    "        token\n",
    "        for token in tokenizer(text)\n",
    "        if token not in stop_words and token not in punc\n",
    "    )\n",
    "\n",
    "ordered_dict = OrderedDict(counter)\n",
    "MAX_VOCAB_SIZE = 25000  # ограничение на словарь\n",
    "ordered_dict = OrderedDict(counter.most_common(MAX_VOCAB_SIZE))"
   ]
  },
  {
   "cell_type": "markdown",
   "id": "21506452",
   "metadata": {
    "id": "21506452"
   },
   "source": [
    "Этот упорядоченный словарь хранит слово и его встречаемость. Можно посмотреть на самые частые слова в датасете:"
   ]
  },
  {
   "cell_type": "code",
   "execution_count": 8,
   "id": "1d305b88",
   "metadata": {
    "execution": {
     "iopub.execute_input": "2024-03-29T17:06:38.088544Z",
     "iopub.status.busy": "2024-03-29T17:06:38.088385Z",
     "iopub.status.idle": "2024-03-29T17:06:38.095133Z",
     "shell.execute_reply": "2024-03-29T17:06:38.094821Z",
     "shell.execute_reply.started": "2024-03-29T17:06:38.088520Z"
    },
    "id": "1d305b88",
    "tags": []
   },
   "outputs": [
    {
     "data": {
      "text/plain": [
       "[(' ', 666725),\n",
       " ('experience', 269289),\n",
       " ('The', 258645),\n",
       " ('role', 211475),\n",
       " ('work', 207318),\n",
       " ('team', 194087),\n",
       " ('This', 180149),\n",
       " ('within', 175173),\n",
       " ('You', 173743),\n",
       " ('skills', 162215)]"
      ]
     },
     "execution_count": 8,
     "metadata": {},
     "output_type": "execute_result"
    }
   ],
   "source": [
    "list(ordered_dict.items())[:10]"
   ]
  },
  {
   "cell_type": "markdown",
   "id": "4063d7b8",
   "metadata": {
    "id": "4063d7b8"
   },
   "source": [
    "Теперь изменим словарь, добавив в него специальные токены, которые необходимы для подготовки данных к обучению:"
   ]
  },
  {
   "cell_type": "code",
   "execution_count": 9,
   "id": "4a63124e",
   "metadata": {
    "execution": {
     "iopub.execute_input": "2024-03-29T17:06:38.095717Z",
     "iopub.status.busy": "2024-03-29T17:06:38.095596Z",
     "iopub.status.idle": "2024-03-29T17:06:38.153180Z",
     "shell.execute_reply": "2024-03-29T17:06:38.152867Z",
     "shell.execute_reply.started": "2024-03-29T17:06:38.095704Z"
    },
    "id": "4a63124e",
    "tags": []
   },
   "outputs": [],
   "source": [
    "# зададим словарь\n",
    "vocab = torchtext.vocab.vocab(ordered_dict)\n",
    "\n",
    "unk_token = \"<unk>\"\n",
    "pad_token = \"<pad>\"\n",
    "\n",
    "\n",
    "def add_special_tokens(vocab):\n",
    "    \"\"\"Функция для добавления специальных токенов в словарь.\"\"\"\n",
    "    for special_token in [unk_token, pad_token]:\n",
    "        vocab.append_token(special_token)\n",
    "    vocab.set_default_index(vocab[unk_token])\n",
    "    UNK_IDX = vocab[unk_token]\n",
    "    PAD_IDX = vocab[pad_token]\n",
    "    return vocab, UNK_IDX, PAD_IDX\n",
    "\n",
    "\n",
    "vocab, UNK_IDX_EN, PAD_IDX_EN = add_special_tokens(vocab)\n",
    "num_tokens = len(vocab)"
   ]
  },
  {
   "cell_type": "markdown",
   "id": "91395e11",
   "metadata": {
    "id": "91395e11"
   },
   "source": [
    "Подготовим класс датасета:"
   ]
  },
  {
   "cell_type": "code",
   "execution_count": 10,
   "id": "325a9927",
   "metadata": {
    "execution": {
     "iopub.execute_input": "2024-03-29T17:06:38.154141Z",
     "iopub.status.busy": "2024-03-29T17:06:38.154018Z",
     "iopub.status.idle": "2024-03-29T17:06:38.156724Z",
     "shell.execute_reply": "2024-03-29T17:06:38.156413Z",
     "shell.execute_reply.started": "2024-03-29T17:06:38.154128Z"
    },
    "id": "325a9927",
    "tags": []
   },
   "outputs": [],
   "source": [
    "\n",
    "class SalaryPredictionDataset(Dataset):\n",
    "    \"\"\"Класс датасета для предсказания зарплаты\"\"\"\n",
    "\n",
    "    def __init__(self, texts, target):\n",
    "        \"\"\"\n",
    "        Параметры.\n",
    "        1) texts (list) — корпус токенизированных текстов, на котором будет\n",
    "                          происходить обучение\n",
    "        2) labels (list) — истинные метки текстов\n",
    "        \"\"\"\n",
    "        self.texts = texts\n",
    "        self.target = target\n",
    "\n",
    "    def __len__(self):\n",
    "        return len(self.target)\n",
    "\n",
    "    def __getitem__(self, idx):\n",
    "        return self.texts[idx], self.target[idx]"
   ]
  },
  {
   "cell_type": "markdown",
   "id": "83f538a8",
   "metadata": {
    "id": "83f538a8"
   },
   "source": [
    "Допишите функцию для дополнения текста до максимальной длины в батче. Снова воспользуйтесь кодом с [семинара](https://miptstats.github.io/courses/ad_fivt/nlp_sem.html).\n",
    "\n",
    "*Обратите внимание, что теперь вместо целочисленных меток мы используем вещественные таргеты. Если не поменять код с семинара, то вы можете решать неправильную задачу.*"
   ]
  },
  {
   "cell_type": "code",
   "execution_count": 11,
   "id": "e404b6a9",
   "metadata": {
    "execution": {
     "iopub.execute_input": "2024-03-29T17:06:38.157220Z",
     "iopub.status.busy": "2024-03-29T17:06:38.157106Z",
     "iopub.status.idle": "2024-03-29T17:06:38.159631Z",
     "shell.execute_reply": "2024-03-29T17:06:38.159326Z",
     "shell.execute_reply.started": "2024-03-29T17:06:38.157208Z"
    },
    "id": "e404b6a9",
    "tags": []
   },
   "outputs": [],
   "source": [
    "def pad_collate(batch):\n",
    "    \"\"\"\n",
    "    Формирует тензоры из токенизированных текстов и таргетов, а также\n",
    "    дополняет последовательности токенов до макс. длины в батче с UNK_IDX\n",
    "\n",
    "    Вход:\n",
    "    * batch — батч с текстами и таргетами\n",
    "\n",
    "    Возвращает:\n",
    "    * texts_tensors - список тензоров текстов из батча, дополненных паддингом\n",
    "    * target - список соответствующих меток батча\n",
    "    \"\"\"\n",
    "    texts, target = zip(*batch)\n",
    "    target = torch.FloatTensor(target)\n",
    "\n",
    "    texts_tensors = pad_sequence(\n",
    "        [torch.LongTensor(t) for t in texts], padding_value=PAD_IDX_EN, batch_first=True\n",
    "    )\n",
    "\n",
    "    return texts_tensors, target"
   ]
  },
  {
   "cell_type": "markdown",
   "id": "cda48bb6",
   "metadata": {
    "id": "cda48bb6"
   },
   "source": [
    "Токенизируем текст, а таргет переведем во `float`."
   ]
  },
  {
   "cell_type": "code",
   "execution_count": 12,
   "id": "5ff3711b",
   "metadata": {
    "execution": {
     "iopub.execute_input": "2024-03-29T17:06:38.160131Z",
     "iopub.status.busy": "2024-03-29T17:06:38.160017Z",
     "iopub.status.idle": "2024-03-29T17:07:32.262115Z",
     "shell.execute_reply": "2024-03-29T17:07:32.261682Z",
     "shell.execute_reply.started": "2024-03-29T17:06:38.160119Z"
    },
    "id": "5ff3711b",
    "tags": []
   },
   "outputs": [],
   "source": [
    "tokens = [vocab(tokenizer(text)) for text in dataset[\"FullDescription\"]]\n",
    "target = [float(value) for value in dataset[\"SalaryNormalized\"]]"
   ]
  },
  {
   "cell_type": "markdown",
   "id": "9cd8fb68",
   "metadata": {
    "id": "9cd8fb68"
   },
   "source": [
    "Каждому из текстов в датасете сопоставляется последовательность токенов, причем везде разного размера:"
   ]
  },
  {
   "cell_type": "code",
   "execution_count": 13,
   "id": "f5bf13aa",
   "metadata": {
    "execution": {
     "iopub.execute_input": "2024-03-29T17:07:32.262708Z",
     "iopub.status.busy": "2024-03-29T17:07:32.262584Z",
     "iopub.status.idle": "2024-03-29T17:07:32.266724Z",
     "shell.execute_reply": "2024-03-29T17:07:32.266276Z",
     "shell.execute_reply.started": "2024-03-29T17:07:32.262694Z"
    },
    "id": "f5bf13aa",
    "tags": []
   },
   "outputs": [
    {
     "name": "stdout",
     "output_type": "stream",
     "text": [
      "Количество токенов в 0-м тексте - 122:\n",
      "  6, 25000, 25000, 141, 18, 25000, 25000, 3605, 25000, 35, ...\n",
      "Таргет: 55000.0 \n",
      "\n",
      "Количество токенов в 1-м тексте - 73:\n",
      "  67, 12, 25000, 14, 25000, 25000, 4674, 393, 871, 25000, ...\n",
      "Таргет: 27500.0 \n",
      "\n",
      "Количество токенов в 2-м тексте - 309:\n",
      "  573, 186, 1517, 658, 0, 24450, 25000, 15730, 13311, 87, ...\n",
      "Таргет: 72098.0 \n",
      "\n"
     ]
    }
   ],
   "source": [
    "for i in range(3):\n",
    "    print(f\"Количество токенов в {i}-м тексте - {len(tokens[i])}:\\n  \", end=\"\")\n",
    "    for token in tokens[i][:10]:\n",
    "        print(token, end=\", \")\n",
    "    print(\"...\\nТаргет:\", target[i], \"\\n\")"
   ]
  },
  {
   "cell_type": "markdown",
   "id": "dc98e576",
   "metadata": {
    "id": "dc98e576"
   },
   "source": [
    "При решении задач регрессии с помощью нейросетей удобнее всего бывает перевести предсказываемые значения в небольшой диапазон, например, от 0 до 1. Это нужно, чтобы повысить численную стабильность обучения &mdash; не нагружать модель большими значениями таргетов. В нашей задаче это важно, ведь зарплата может иметь большой разброс и принимать большие значения.\n",
    "\n",
    "Чтобы сделать это, воспользуемся преобразованием `MinMaxScaler` из библиотеки `sklearn`, которое мы рассматривали в [задаче 3 задания 3](https://miptstats.github.io/courses/ad_fivt/task3.html#%D0%97%D0%B0%D0%B4%D0%B0%D1%87%D0%B0-3.).\n",
    "Таким образом, мы получим значения, удобные для использования при обучении."
   ]
  },
  {
   "cell_type": "code",
   "execution_count": 14,
   "id": "6e66978f",
   "metadata": {
    "execution": {
     "iopub.execute_input": "2024-03-29T17:07:32.267339Z",
     "iopub.status.busy": "2024-03-29T17:07:32.267227Z",
     "iopub.status.idle": "2024-03-29T17:07:32.315559Z",
     "shell.execute_reply": "2024-03-29T17:07:32.315170Z",
     "shell.execute_reply.started": "2024-03-29T17:07:32.267327Z"
    },
    "id": "6e66978f",
    "tags": []
   },
   "outputs": [
    {
     "data": {
      "text/plain": [
       "(150000, 50000)"
      ]
     },
     "execution_count": 14,
     "metadata": {},
     "output_type": "execute_result"
    }
   ],
   "source": [
    "train_tokens, valid_tokens, train_target, valid_target = train_test_split(\n",
    "    tokens, target\n",
    ")\n",
    "\n",
    "scaler = MinMaxScaler()\n",
    "train_target_std = scaler.fit_transform(np.array(train_target).reshape(-1, 1))\n",
    "valid_target_std = scaler.transform(np.array(valid_target).reshape(-1, 1))\n",
    "\n",
    "train_data = SalaryPredictionDataset(train_tokens, train_target_std)\n",
    "valid_data = SalaryPredictionDataset(valid_tokens, valid_target_std)\n",
    "len(train_data), len(valid_data)"
   ]
  },
  {
   "cell_type": "markdown",
   "id": "c90113da",
   "metadata": {
    "id": "c90113da"
   },
   "source": [
    "Посмотрим на отмасштабированные значения зарплаты:"
   ]
  },
  {
   "cell_type": "code",
   "execution_count": 15,
   "id": "c40d3904",
   "metadata": {
    "execution": {
     "iopub.execute_input": "2024-03-29T17:07:32.316115Z",
     "iopub.status.busy": "2024-03-29T17:07:32.315998Z",
     "iopub.status.idle": "2024-03-29T17:07:32.318617Z",
     "shell.execute_reply": "2024-03-29T17:07:32.318294Z",
     "shell.execute_reply.started": "2024-03-29T17:07:32.316102Z"
    },
    "id": "c40d3904",
    "tags": []
   },
   "outputs": [
    {
     "name": "stdout",
     "output_type": "stream",
     "text": [
      "Преобразованные таргеты:\n",
      "0.1538, 0.359, 0.1154, ...\n"
     ]
    }
   ],
   "source": [
    "print(\"Преобразованные таргеты:\")\n",
    "for t in train_data[:3][1]:\n",
    "    print(round(t.item(), 4), end=\", \")\n",
    "print(\"...\")"
   ]
  },
  {
   "cell_type": "markdown",
   "id": "6ef5e780",
   "metadata": {
    "id": "6ef5e780"
   },
   "source": [
    "Сформируйте даталоадеры для обучения и валидации."
   ]
  },
  {
   "cell_type": "code",
   "execution_count": 16,
   "id": "a42bd036",
   "metadata": {
    "execution": {
     "iopub.execute_input": "2024-03-29T17:07:32.319871Z",
     "iopub.status.busy": "2024-03-29T17:07:32.319671Z",
     "iopub.status.idle": "2024-03-29T17:07:32.322155Z",
     "shell.execute_reply": "2024-03-29T17:07:32.321851Z",
     "shell.execute_reply.started": "2024-03-29T17:07:32.319859Z"
    },
    "id": "a42bd036",
    "tags": []
   },
   "outputs": [],
   "source": [
    "BATCH_SIZE = 64  # размер батча\n",
    "\n",
    "# сформируем даталоадеры\n",
    "train_loader = DataLoader(\n",
    "    train_data, batch_size=BATCH_SIZE, shuffle=True, collate_fn=pad_collate\n",
    ")\n",
    "\n",
    "valid_loader = DataLoader(\n",
    "    valid_data, batch_size=BATCH_SIZE, shuffle=False, collate_fn=pad_collate\n",
    ")"
   ]
  },
  {
   "cell_type": "markdown",
   "id": "6aeb78e0",
   "metadata": {
    "id": "6aeb78e0"
   },
   "source": [
    "Наконец, можем подготовить модель. Будем использовать рекуррентную архитектуру, подобную той, что была на [семинаре](https://miptstats.github.io/courses/ad_fivt/nlp_sem.ipynb).\n",
    "Отличие состоит в том, что теперь мы предсказываем не метку класса, а вещественный таргет. Подумайте, какую часть сети нужно изменить, чтобы адаптировать ее к нашей задаче."
   ]
  },
  {
   "cell_type": "code",
   "execution_count": 17,
   "id": "bfcd2f4a",
   "metadata": {
    "execution": {
     "iopub.execute_input": "2024-03-29T17:07:32.322635Z",
     "iopub.status.busy": "2024-03-29T17:07:32.322517Z",
     "iopub.status.idle": "2024-03-29T17:07:32.326145Z",
     "shell.execute_reply": "2024-03-29T17:07:32.325851Z",
     "shell.execute_reply.started": "2024-03-29T17:07:32.322623Z"
    },
    "id": "bfcd2f4a",
    "tags": []
   },
   "outputs": [],
   "source": [
    "class SimpleRNNRegressor(nn.Module):\n",
    "    \"\"\" Модель для регрессии на основе LSTM\"\"\"\n",
    "\n",
    "    def __init__(\n",
    "        self,\n",
    "        num_tokens,\n",
    "        emb_size=512,\n",
    "        rnn_num_units=64,\n",
    "        output_dim=1, \n",
    "        num_layers=1\n",
    "    ):\n",
    "        \"\"\"\n",
    "        1) num_tokens — общее количество токенов,\n",
    "        2) emb_size — размер эмбеддингового пространства,\n",
    "        3) rnn_num_units - размер пространства скрытых представлений в rnn,\n",
    "        4) output_dim - размерность выхода-предсказания.\n",
    "        \"\"\"\n",
    "        super(self.__class__, self).__init__()\n",
    "\n",
    "        # ==========================================================\n",
    "        self.emb = nn.Embedding(num_tokens, emb_size, padding_idx=PAD_IDX_EN)\n",
    "        self.rnn = nn.LSTM(input_size=emb_size, hidden_size=rnn_num_units, batch_first=True, num_layers=num_layers)\n",
    "        self.classifier = nn.Linear(rnn_num_units, output_dim)\n",
    "        # ==========================================================\n",
    "\n",
    "    def forward(self, x):\n",
    "        \"\"\"\n",
    "        * x — общее количество токенов.\n",
    "\n",
    "        Возвращает:\n",
    "        * predictions - предсказания модели.\n",
    "        \"\"\"\n",
    "\n",
    "        # ==========================================================\n",
    "        # x.shape = (batch_size, max_pad_len)\n",
    "\n",
    "        # Получим эмбеддинги для входов\n",
    "        # (batch_size, max_pad_len, emb_size)\n",
    "        emb = self.emb(x)\n",
    "\n",
    "        # Прогоним через RNN-сеть и получим скрытое состояние,\n",
    "        # в котором хранится нужная информация о последовательности\n",
    "        # (batch_size, rnn_num_units)\n",
    "        _, (h_state, _) = self.rnn(emb)\n",
    "\n",
    "        # Прогоним через полносвязный слой и получим логиты для каждого токена\n",
    "        # (batch_size, num_tokens)\n",
    "        predictions = self.classifier(h_state.squeeze(0))\n",
    "        # ==========================================================\n",
    "\n",
    "        return predictions"
   ]
  },
  {
   "cell_type": "markdown",
   "id": "35d59151",
   "metadata": {
    "id": "35d59151"
   },
   "source": [
    "Так как теперь решаем задачу регрессии, вместо точности модели будем измерять среднеквадратичную ошибку:"
   ]
  },
  {
   "cell_type": "code",
   "execution_count": 18,
   "id": "bbc77abf",
   "metadata": {
    "execution": {
     "iopub.execute_input": "2024-03-29T17:07:32.326653Z",
     "iopub.status.busy": "2024-03-29T17:07:32.326539Z",
     "iopub.status.idle": "2024-03-29T17:07:32.328929Z",
     "shell.execute_reply": "2024-03-29T17:07:32.328632Z",
     "shell.execute_reply.started": "2024-03-29T17:07:32.326641Z"
    },
    "id": "bbc77abf",
    "tags": []
   },
   "outputs": [],
   "source": [
    "def mse(preds, y):\n",
    "    \"\"\"\n",
    "    Возвращает среднеквадратичную ошибку модели.\n",
    "\n",
    "    Параметры.\n",
    "    1) preds — предсказания модели,\n",
    "    2) y — истинные значения таргета.\n",
    "    \"\"\"\n",
    "\n",
    "    return F.mse_loss(preds, y, reduction=\"mean\")"
   ]
  },
  {
   "cell_type": "markdown",
   "id": "0f5c892f",
   "metadata": {
    "id": "0f5c892f"
   },
   "source": [
    "Допишите функции для обучения и валидации. Они почти не будут отличаться от тех, что были на [семинаре](https://miptstats.github.io/courses/ad_fivt/nlp_sem.html)."
   ]
  },
  {
   "cell_type": "code",
   "execution_count": 19,
   "id": "45f14b1d",
   "metadata": {
    "execution": {
     "iopub.execute_input": "2024-03-29T17:07:32.329419Z",
     "iopub.status.busy": "2024-03-29T17:07:32.329307Z",
     "iopub.status.idle": "2024-03-29T17:07:32.351277Z",
     "shell.execute_reply": "2024-03-29T17:07:32.350854Z",
     "shell.execute_reply.started": "2024-03-29T17:07:32.329407Z"
    },
    "id": "45f14b1d",
    "tags": []
   },
   "outputs": [],
   "source": [
    "def train(model, iterator, optimizer, criterion, train_loss_history):\n",
    "    \"\"\"\n",
    "    Функция для обучения модели на обучающем датасете и подсчёта\n",
    "    её ошибки.\n",
    "\n",
    "    Параметры.\n",
    "    1) model — модель,\n",
    "    2) iterator — итератор обучающего датасета,\n",
    "    3) optimizer — класс метода оптимизации,\n",
    "    4) criterion — функция потерь.\n",
    "    \"\"\"\n",
    "\n",
    "    epoch_loss = 0\n",
    "    epoch_mse = 0\n",
    "    model.train()\n",
    "\n",
    "    # Проход по всему датасету\n",
    "    for batch_id, batch in enumerate(iterator):\n",
    "        # Обучение на 1 батче, подсчет метрики\n",
    "        # ==========================================================\n",
    "        #  чтобы градиент не накапливался, его нужно обнулить\n",
    "        optimizer.zero_grad()\n",
    "        # получим предсказания модели\n",
    "        texts, labels = batch\n",
    "        texts, labels = texts.to(device), labels.to(device)\n",
    "        predictions = model(texts).squeeze(1)\n",
    "        loss = criterion(predictions, labels)\n",
    "        mse_result = mse(predictions, labels)\n",
    "\n",
    "        # сделаем back-propagation для подсчёта градиентов\n",
    "        loss.backward()\n",
    "        # выполним шаг оптимизатора\n",
    "        optimizer.step()\n",
    "        # обновим метрики\n",
    "        epoch_loss += loss.item()\n",
    "        epoch_mse += mse_result.item()\n",
    "        train_loss_history.append(loss.item())\n",
    "        # ==========================================================\n",
    "\n",
    "    return epoch_loss / len(iterator), epoch_mse / len(iterator)\n",
    "\n",
    "\n",
    "def evaluate(model, iterator, criterion, val_loss_history=None):\n",
    "    \"\"\"\n",
    "    Функция для применения модели на валидационном/тестовом датасете и подсчёта\n",
    "    её точности.\n",
    "\n",
    "    Параметры.\n",
    "    1) model — модель,\n",
    "    2) iterator — итератор датасета,\n",
    "    3) criterion — функция потерь.\n",
    "    \"\"\"\n",
    "\n",
    "    epoch_loss = 0\n",
    "    epoch_mse = 0\n",
    "\n",
    "    model.eval()\n",
    "\n",
    "    with torch.no_grad(): # отключим подсчёт градиентов на валидации\n",
    "        # Проход по всему датасету\n",
    "        for batch_id, batch in enumerate(iterator):\n",
    "            # ==========================================================\n",
    "            # Обучение на 1 батче, подсчет метрики\n",
    "            texts, labels = batch\n",
    "            texts, labels = texts.to(device), labels.to(device)\n",
    "            # получим предсказания\n",
    "            predictions = model(texts).squeeze(1)\n",
    "            # посчитаем метрики\n",
    "            loss = criterion(predictions, labels)\n",
    "            mse_result = mse(predictions, labels)\n",
    "            # обновим метрики\n",
    "            epoch_loss += loss.item()\n",
    "            epoch_mse += mse_result.item()\n",
    "            if val_loss_history is not None:\n",
    "                val_loss_history.append(loss.item())\n",
    "            # ==========================================================\n",
    "\n",
    "    return epoch_loss / len(iterator), epoch_mse / len(iterator)\n",
    "\n",
    "\n",
    "def epoch_time(start_time, end_time):\n",
    "    \"\"\"\n",
    "    Функция для подсчёта времени работы одной эпохи.\n",
    "\n",
    "    Параметры.\n",
    "    1) start_time — время начала запуска,\n",
    "    2) end_time — время завершения работы эпохи.\n",
    "    \"\"\"\n",
    "\n",
    "    elapsed_time = end_time - start_time\n",
    "    elapsed_mins = int(elapsed_time / 60)\n",
    "    elapsed_secs = int(elapsed_time - (elapsed_mins * 60))\n",
    "    return elapsed_mins, elapsed_secs"
   ]
  },
  {
   "cell_type": "markdown",
   "id": "c46419e8",
   "metadata": {
    "id": "c46419e8"
   },
   "source": [
    "Теперь определим итоговую функцию для всего цикла обучения:"
   ]
  },
  {
   "cell_type": "code",
   "execution_count": 20,
   "id": "e4fa0a52",
   "metadata": {
    "execution": {
     "iopub.execute_input": "2024-03-29T17:07:32.351859Z",
     "iopub.status.busy": "2024-03-29T17:07:32.351727Z",
     "iopub.status.idle": "2024-03-29T17:07:32.356873Z",
     "shell.execute_reply": "2024-03-29T17:07:32.356545Z",
     "shell.execute_reply.started": "2024-03-29T17:07:32.351845Z"
    },
    "id": "e4fa0a52",
    "tags": []
   },
   "outputs": [],
   "source": [
    "def visualize_epoch(epoch, start_time, loss_history, mse_history):\n",
    "    \"\"\"\n",
    "    Функция для визуализации 1 эпохи.\n",
    "\n",
    "    Параметры.\n",
    "    1) epoch — номер эпохи,\n",
    "    2) start_time — время начала эпохи,\n",
    "    3) loss_history - tuple истории лосса на train и test,\n",
    "    4) mse_history - tuple истории MSE на train и test.\n",
    "    \"\"\"\n",
    "    # Посчитаем время работы одной эпохи\n",
    "    end_time = time.time()\n",
    "    epoch_mins, epoch_secs = epoch_time(start_time, end_time)\n",
    "\n",
    "    # Отобразим графики лоссов\n",
    "    clear_output(True)\n",
    "    plt.figure(figsize=(18, 6))\n",
    "\n",
    "    train_loss_history, val_loss_history = loss_history\n",
    "    plt.subplot(1, 3, 1)\n",
    "    plt.plot(train_loss_history)\n",
    "    plt.title(\"Train Loss\")\n",
    "    plt.xlabel(\"Номер батча\")\n",
    "    plt.subplot(1, 3, 2)\n",
    "    plt.plot(val_loss_history, color=\"tab:orange\")\n",
    "    plt.title(\"Valid Loss\")\n",
    "    plt.xlabel(\"Номер батча\")\n",
    "\n",
    "    # Отрисуем значение MSE от эпохи\n",
    "    train_mse_history, val_mse_history = mse_history\n",
    "    plt.subplot(1, 3, 3)\n",
    "    plt.plot(train_mse_history, label=\"Train\")\n",
    "    plt.plot(val_mse_history, label=\"Valid\")\n",
    "    plt.legend()\n",
    "    plt.title(\"MSE\")\n",
    "    plt.xlabel(\"Номер эпохи\")\n",
    "    plt.show()\n",
    "\n",
    "    print(\n",
    "        f\"Номер эпохи: {epoch+1:02} | Время обучения эпохи: {epoch_mins}m {epoch_secs}s\"\n",
    "    )\n",
    "\n",
    "\n",
    "def training_loop(model_instance, n_epochs=10):\n",
    "    \"\"\"\n",
    "    Функция для обучения нейронной сети.\n",
    "\n",
    "    Параметры.\n",
    "    1) model_instance — обучаемая модель,\n",
    "    2) n_epochs — количество эпох.\n",
    "    \"\"\"\n",
    "\n",
    "    best_valid_loss = float(\"inf\")\n",
    "    train_loss_history = []\n",
    "    val_loss_history = []\n",
    "    train_mse_history = []\n",
    "    val_mse_history = []\n",
    "\n",
    "    for epoch in range(n_epochs):\n",
    "        start_time = time.time()\n",
    "        # Обучим одну эпоху на обучающем датасете\n",
    "        train_loss, train_mse = train(\n",
    "            model_instance,\n",
    "            train_loader,\n",
    "            optimizer,\n",
    "            criterion,\n",
    "            train_loss_history,\n",
    "        )\n",
    "        train_mse_history.append(train_mse)\n",
    "\n",
    "        # Оценим ошибку модели на тестовом датасете\n",
    "        valid_loss, valid_mse = evaluate(\n",
    "            model_instance, valid_loader, criterion, val_loss_history\n",
    "        )\n",
    "        val_mse_history.append(valid_mse)\n",
    "\n",
    "        # Если значение функции потерь улучшилось, сохраним параметры модели\n",
    "        if valid_loss < best_valid_loss:\n",
    "            best_valid_loss = valid_loss\n",
    "            torch.save(model_instance.state_dict(), \"model_checkpoint.pt\")\n",
    "\n",
    "        # Визуализируем результаты эпохи\n",
    "        visualize_epoch(\n",
    "            epoch,\n",
    "            start_time,\n",
    "            (train_loss_history, val_loss_history),\n",
    "            (train_mse_history, val_mse_history),\n",
    "        )"
   ]
  },
  {
   "cell_type": "code",
   "execution_count": 22,
   "id": "089f4846",
   "metadata": {
    "execution": {
     "iopub.execute_input": "2024-03-29T17:08:02.212836Z",
     "iopub.status.busy": "2024-03-29T17:08:02.212488Z",
     "iopub.status.idle": "2024-03-29T17:08:02.265437Z",
     "shell.execute_reply": "2024-03-29T17:08:02.265035Z",
     "shell.execute_reply.started": "2024-03-29T17:08:02.212818Z"
    },
    "id": "089f4846",
    "tags": []
   },
   "outputs": [
    {
     "data": {
      "text/plain": [
       "SimpleRNNRegressor(\n",
       "  (emb): Embedding(25002, 256, padding_idx=25001)\n",
       "  (rnn): LSTM(256, 8, num_layers=10, batch_first=True)\n",
       "  (classifier): Linear(in_features=8, out_features=1, bias=True)\n",
       ")"
      ]
     },
     "execution_count": 22,
     "metadata": {},
     "output_type": "execute_result"
    }
   ],
   "source": [
    "# У нас задача регрессии, будем использовать MSELoss\n",
    "criterion = nn.MSELoss()\n",
    "history = []\n",
    "\n",
    "# Задайте параметры сети\n",
    "model = SimpleRNNRegressor(\n",
    "    num_tokens=len(vocab),\n",
    "    emb_size=256,\n",
    "    rnn_num_units=8,\n",
    "    output_dim=1,\n",
    "    num_layers=10,\n",
    ").to(device)\n",
    "optimizer = torch.optim.Adam(model.parameters(), lr=0.005)\n",
    "# Посмотрите на получившуюся модель\n",
    "model"
   ]
  },
  {
   "cell_type": "markdown",
   "id": "38572121",
   "metadata": {
    "id": "38572121"
   },
   "source": [
    "Обучите несколько моделей с различными гиперпараметрами (например, шаг обучения, размер словаря, архитектура) и сравните их качество на тестовой выборке.\n",
    "\n",
    "*Не пугайтесь, если у вас не будет получаться хорошее качество на валидации: решаемая задача довольно сложная, а RNN &mdash; достаточно простая архитектура. Но постарайтесь, чтобы модель хотя бы не вырождалась в константу. Для этого следите за переобучением!*\n",
    "\n",
    "*На 3 курсе вы сможете познакомиться с моделями, которые решают такую задачу гораздо лучше.*"
   ]
  },
  {
   "cell_type": "markdown",
   "id": "670f2119-3d71-44ce-8f61-67b99ec194a7",
   "metadata": {},
   "source": [
    "### Модель 1\n",
    "    model = SimpleRNNRegressor(\n",
    "        num_tokens=len(vocab),\n",
    "        emb_size=256,\n",
    "        rnn_num_units=16,\n",
    "        output_dim=1,\n",
    "        num_layers=1,\n",
    "    )"
   ]
  },
  {
   "cell_type": "code",
   "execution_count": 25,
   "id": "9d955871",
   "metadata": {
    "colab": {
     "base_uri": "https://localhost:8080/",
     "height": 590
    },
    "execution": {
     "iopub.execute_input": "2024-03-29T15:48:22.080430Z",
     "iopub.status.busy": "2024-03-29T15:48:22.080223Z",
     "iopub.status.idle": "2024-03-29T15:54:27.430040Z",
     "shell.execute_reply": "2024-03-29T15:54:27.429672Z",
     "shell.execute_reply.started": "2024-03-29T15:48:22.080416Z"
    },
    "id": "9d955871",
    "outputId": "8f28be6c-576c-4178-ac73-90a03e74b1e7",
    "tags": []
   },
   "outputs": [
    {
     "data": {
      "image/png": "[encoded data removed]",
      "text/plain": [
       "<Figure size 1800x600 with 3 Axes>"
      ]
     },
     "metadata": {},
     "output_type": "display_data"
    },
    {
     "name": "stdout",
     "output_type": "stream",
     "text": [
      "Номер эпохи: 20 | Время обучения эпохи: 0m 17s\n"
     ]
    }
   ],
   "source": [
    "training_loop(model, n_epochs=20)"
   ]
  },
  {
   "cell_type": "markdown",
   "id": "ba4bc8b3-e418-456e-82e2-4276dfcb42c4",
   "metadata": {
    "execution": {
     "iopub.execute_input": "2024-03-29T18:24:38.755464Z",
     "iopub.status.busy": "2024-03-29T18:24:38.755222Z",
     "iopub.status.idle": "2024-03-29T18:24:38.758232Z",
     "shell.execute_reply": "2024-03-29T18:24:38.757871Z",
     "shell.execute_reply.started": "2024-03-29T18:24:38.755442Z"
    }
   },
   "source": [
    "Видно, что при одном слое в обучении все плохо и модель практически не обучается."
   ]
  },
  {
   "cell_type": "markdown",
   "id": "75309625-5c58-4ab0-807d-5713ff07d345",
   "metadata": {},
   "source": [
    "### Модель 2\n",
    "    model = SimpleRNNRegressor(\n",
    "        num_tokens=len(vocab),\n",
    "        emb_size=256,\n",
    "        rnn_num_units=16,\n",
    "        output_dim=1,\n",
    "        num_layers=5,\n",
    "    )"
   ]
  },
  {
   "cell_type": "code",
   "execution_count": 30,
   "id": "826ecbc9-0f4f-47b0-829c-55525677c725",
   "metadata": {
    "execution": {
     "iopub.execute_input": "2024-03-29T15:55:53.066932Z",
     "iopub.status.busy": "2024-03-29T15:55:53.066612Z",
     "iopub.status.idle": "2024-03-29T16:05:22.094707Z",
     "shell.execute_reply": "2024-03-29T16:05:22.094312Z",
     "shell.execute_reply.started": "2024-03-29T15:55:53.066904Z"
    }
   },
   "outputs": [
    {
     "data": {
      "image/png": "[encoded data removed]",
      "text/plain": [
       "<Figure size 1800x600 with 3 Axes>"
      ]
     },
     "metadata": {},
     "output_type": "display_data"
    },
    {
     "name": "stdout",
     "output_type": "stream",
     "text": [
      "Номер эпохи: 20 | Время обучения эпохи: 0m 28s\n"
     ]
    }
   ],
   "source": [
    "training_loop(model, n_epochs=20)"
   ]
  },
  {
   "cell_type": "code",
   "execution_count": 31,
   "id": "bc6dde18-e551-4480-ab75-a4c6c4964665",
   "metadata": {
    "execution": {
     "iopub.execute_input": "2024-03-29T16:05:22.095499Z",
     "iopub.status.busy": "2024-03-29T16:05:22.095371Z",
     "iopub.status.idle": "2024-03-29T16:05:25.488033Z",
     "shell.execute_reply": "2024-03-29T16:05:25.487652Z",
     "shell.execute_reply.started": "2024-03-29T16:05:22.095485Z"
    }
   },
   "outputs": [
    {
     "data": {
      "image/png": "[encoded data removed]",
      "text/plain": [
       "<Figure size 1000x600 with 1 Axes>"
      ]
     },
     "metadata": {},
     "output_type": "display_data"
    }
   ],
   "source": [
    "all_preds = np.ndarray((0, 1))\n",
    "with torch.no_grad():\n",
    "    for batch_id, batch in enumerate(valid_loader):\n",
    "        texts, targets = batch\n",
    "        texts, targets = texts.to(device), targets.to(device)\n",
    "        preds = model(texts).squeeze(1)\n",
    "        all_preds = np.concatenate((all_preds, preds.cpu()[-1,:,:]))\n",
    "    \n",
    "sns.set(style=\"whitegrid\")\n",
    "\n",
    "plt.figure(figsize=(10, 6))\n",
    "\n",
    "sns.histplot(scaler.inverse_transform(all_preds.reshape(-1, 1)), color='red', bins=20, alpha=0.7, label='Preds', kde=True)\n",
    "sns.histplot(valid_target, color='lightgreen', bins=50, alpha=0.3, label='Target', kde=True)\n",
    "\n",
    "plt.xlabel('Зарплата', fontsize=14)\n",
    "plt.ylabel('Количество предложений', fontsize=14)\n",
    "plt.title('Сравнение предсказаний на валидационной выборке', fontsize=16)\n",
    "\n",
    "plt.legend(fontsize=12)\n",
    "\n",
    "plt.tick_params(axis='both', which='major', labelsize=12)\n",
    "\n",
    "plt.show()"
   ]
  },
  {
   "cell_type": "markdown",
   "id": "b824a446-4a49-461d-913d-207e492883d9",
   "metadata": {},
   "source": [
    "### Модель 3\n",
    "    model = SimpleRNNRegressor(\n",
    "        num_tokens=len(vocab),\n",
    "        emb_size=256,\n",
    "        rnn_num_units=8,\n",
    "        output_dim=1,\n",
    "        num_layers=5,\n",
    "    )"
   ]
  },
  {
   "cell_type": "code",
   "execution_count": 33,
   "id": "aa7a2b22-e8b3-41f8-bb5f-cc9380700766",
   "metadata": {
    "execution": {
     "iopub.execute_input": "2024-03-29T16:12:50.330586Z",
     "iopub.status.busy": "2024-03-29T16:12:50.330389Z",
     "iopub.status.idle": "2024-03-29T16:22:21.099343Z",
     "shell.execute_reply": "2024-03-29T16:22:21.098964Z",
     "shell.execute_reply.started": "2024-03-29T16:12:50.330569Z"
    }
   },
   "outputs": [
    {
     "data": {
      "image/png": "[encoded data removed]",
      "text/plain": [
       "<Figure size 1800x600 with 3 Axes>"
      ]
     },
     "metadata": {},
     "output_type": "display_data"
    },
    {
     "name": "stdout",
     "output_type": "stream",
     "text": [
      "Номер эпохи: 20 | Время обучения эпохи: 0m 27s\n"
     ]
    }
   ],
   "source": [
    "training_loop(model, n_epochs=20)"
   ]
  },
  {
   "cell_type": "code",
   "execution_count": 34,
   "id": "7c4f353a-8662-49d3-bce2-d4ff0e4d053f",
   "metadata": {
    "execution": {
     "iopub.execute_input": "2024-03-29T16:22:21.100313Z",
     "iopub.status.busy": "2024-03-29T16:22:21.100034Z",
     "iopub.status.idle": "2024-03-29T16:22:24.414698Z",
     "shell.execute_reply": "2024-03-29T16:22:24.414336Z",
     "shell.execute_reply.started": "2024-03-29T16:22:21.100299Z"
    }
   },
   "outputs": [
    {
     "data": {
      "image/png": "[encoded data removed]",
      "text/plain": [
       "<Figure size 1000x600 with 1 Axes>"
      ]
     },
     "metadata": {},
     "output_type": "display_data"
    }
   ],
   "source": [
    "all_preds = np.ndarray((0, 1))\n",
    "with torch.no_grad():\n",
    "    for batch_id, batch in enumerate(valid_loader):\n",
    "        texts, targets = batch\n",
    "        texts, targets = texts.to(device), targets.to(device)\n",
    "        preds = model(texts).squeeze(1)\n",
    "        all_preds = np.concatenate((all_preds, preds.cpu()[-1,:,:]))\n",
    "\n",
    "sns.set(style=\"whitegrid\")\n",
    "\n",
    "plt.figure(figsize=(10, 6))\n",
    "\n",
    "sns.histplot(scaler.inverse_transform(all_preds.reshape(-1, 1)), color='red', bins=20, alpha=0.7, label='Preds', kde=True)\n",
    "sns.histplot(valid_target, color='lightgreen', bins=50, alpha=0.3, label='Target', kde=True)\n",
    "\n",
    "plt.xlabel('Зарплата', fontsize=14)\n",
    "plt.ylabel('Количество предложений', fontsize=14)\n",
    "plt.title('Сравнение предсказаний на валидационной выборке', fontsize=16)\n",
    "\n",
    "plt.legend(fontsize=12)\n",
    "\n",
    "plt.tick_params(axis='both', which='major', labelsize=12)\n",
    "\n",
    "plt.show()"
   ]
  },
  {
   "cell_type": "markdown",
   "id": "ae9c624c-5ba6-4b54-8d9e-b0cc5c05d4da",
   "metadata": {},
   "source": [
    "### Модель 4\n",
    "    model = SimpleRNNRegressor(\n",
    "        num_tokens=len(vocab),\n",
    "        emb_size=256,\n",
    "        rnn_num_units=8,\n",
    "        output_dim=1,\n",
    "        num_layers=10,\n",
    "    )"
   ]
  },
  {
   "cell_type": "code",
   "execution_count": 23,
   "id": "28016979-8416-4be3-9278-62c62abe516a",
   "metadata": {
    "execution": {
     "iopub.execute_input": "2024-03-29T17:08:21.924851Z",
     "iopub.status.busy": "2024-03-29T17:08:21.924636Z",
     "iopub.status.idle": "2024-03-29T17:21:10.002968Z",
     "shell.execute_reply": "2024-03-29T17:21:10.002546Z",
     "shell.execute_reply.started": "2024-03-29T17:08:21.924833Z"
    }
   },
   "outputs": [
    {
     "data": {
      "image/png": "[encoded data removed]",
      "text/plain": [
       "<Figure size 1800x600 with 3 Axes>"
      ]
     },
     "metadata": {},
     "output_type": "display_data"
    },
    {
     "name": "stdout",
     "output_type": "stream",
     "text": [
      "Номер эпохи: 20 | Время обучения эпохи: 0m 39s\n"
     ]
    }
   ],
   "source": [
    "training_loop(model, n_epochs=20)"
   ]
  },
  {
   "cell_type": "code",
   "execution_count": 24,
   "id": "40e88afd-fe32-45b4-a3c7-aa73ef1962bc",
   "metadata": {
    "execution": {
     "iopub.execute_input": "2024-03-29T17:21:10.003808Z",
     "iopub.status.busy": "2024-03-29T17:21:10.003686Z",
     "iopub.status.idle": "2024-03-29T17:21:14.391185Z",
     "shell.execute_reply": "2024-03-29T17:21:14.390838Z",
     "shell.execute_reply.started": "2024-03-29T17:21:10.003794Z"
    }
   },
   "outputs": [
    {
     "data": {
      "image/png": "[encoded data removed]",
      "text/plain": [
       "<Figure size 1000x600 with 1 Axes>"
      ]
     },
     "metadata": {},
     "output_type": "display_data"
    }
   ],
   "source": [
    "all_preds = np.ndarray((0, 1))\n",
    "with torch.no_grad():\n",
    "    for batch_id, batch in enumerate(valid_loader):\n",
    "        texts, targets = batch\n",
    "        texts, targets = texts.to(device), targets.to(device)\n",
    "        preds = model(texts).squeeze(1)\n",
    "        all_preds = np.concatenate((all_preds, preds.cpu()[-1,:,:]))\n",
    "\n",
    "sns.set(style=\"whitegrid\")\n",
    "\n",
    "plt.figure(figsize=(10, 6))\n",
    "\n",
    "sns.histplot(scaler.inverse_transform(all_preds.reshape(-1, 1)), color='red', bins=20, alpha=0.7, label='Preds', kde=True)\n",
    "sns.histplot(valid_target, color='lightgreen', bins=50, alpha=0.3, label='Target', kde=True)\n",
    "\n",
    "plt.xlabel('Зарплата', fontsize=14)\n",
    "plt.ylabel('Количество предложений', fontsize=14)\n",
    "plt.title('Сравнение предсказаний на валидационной выборке', fontsize=16)\n",
    "\n",
    "plt.legend(fontsize=12)\n",
    "\n",
    "plt.tick_params(axis='both', which='major', labelsize=12)\n",
    "\n",
    "plt.show()"
   ]
  },
  {
   "cell_type": "markdown",
   "id": "fea35795",
   "metadata": {
    "id": "fea35795"
   },
   "source": [
    "Выведите несколько примеров работы на тестовой выборке: текст вакансии, предсказание вашей модели и истинное значение зарплаты. Чтобы вернуть все значения к изначальным масштабам, используйте `scaler.inverse_transform(...)`. Также посчитайте MSE на всей тестовой выборке."
   ]
  },
  {
   "cell_type": "code",
   "execution_count": 25,
   "id": "ca6869f5-38cc-43fa-a455-7a0404137823",
   "metadata": {
    "execution": {
     "iopub.execute_input": "2024-03-29T17:21:34.974837Z",
     "iopub.status.busy": "2024-03-29T17:21:34.974653Z",
     "iopub.status.idle": "2024-03-29T17:21:35.001313Z",
     "shell.execute_reply": "2024-03-29T17:21:35.000849Z",
     "shell.execute_reply.started": "2024-03-29T17:21:34.974818Z"
    }
   },
   "outputs": [
    {
     "data": {
      "text/plain": [
       "<All keys matched successfully>"
      ]
     },
     "execution_count": 25,
     "metadata": {},
     "output_type": "execute_result"
    }
   ],
   "source": [
    "model.load_state_dict(torch.load('model_checkpoint.pt'))"
   ]
  },
  {
   "cell_type": "code",
   "execution_count": 30,
   "id": "4c145d29-ea5d-4cfa-9662-97a0c14e8c25",
   "metadata": {
    "execution": {
     "iopub.execute_input": "2024-03-29T17:28:50.946962Z",
     "iopub.status.busy": "2024-03-29T17:28:50.946633Z",
     "iopub.status.idle": "2024-03-29T17:28:50.981402Z",
     "shell.execute_reply": "2024-03-29T17:28:50.981021Z",
     "shell.execute_reply.started": "2024-03-29T17:28:50.946932Z"
    }
   },
   "outputs": [
    {
     "name": "stdout",
     "output_type": "stream",
     "text": [
      "Пример 1========================================\n",
      "\n",
      "Текст вакансии: An opportunity has arisen for a Senior Project Officer in the Research and Enterprise Support department (RES). RES is responsible for providing specialist support services to develop the University s...\n",
      "Истинное значение: 32919\n",
      "Предсказание модели: 35359\n",
      "\n",
      "Пример 2========================================\n",
      "\n",
      "Текст вакансии: 2nd Line Support/Dorset/****  **** Our client who are an IT Service provider are looking for an experienced 2nd Line Support Technician to join their team in Dorset. The successful 2nd Line Support Te...\n",
      "Истинное значение: 26000\n",
      "Предсказание модели: 27589\n",
      "\n",
      "Пример 3========================================\n",
      "\n",
      "Текст вакансии: Infrastructure Desktop Technician  URGENT. Salary **** pro rata. Fixed term contract till the end of September 2013. Immediate start. A leading education body are looking for an experienced Infrastruc...\n",
      "Истинное значение: 25500\n",
      "Предсказание модели: 32440\n",
      "\n",
      "Пример 4========================================\n",
      "\n",
      "Текст вакансии: Here at Beefeater Grill we pride ourselves on our flaming good meal deals. Our mission statement is simple, 'to serve our Guests fantastic food, at great value for money in a family friendly environme...\n",
      "Истинное значение: 21000\n",
      "Предсказание модели: 22413\n",
      "\n",
      "Пример 5========================================\n",
      "\n",
      "Текст вакансии: Are you are an experienced HR Advisor? Are you available for a **** 6 month contract in Basingstoke? Are you experienced with supporting business reorganisations, restructures and redundancy matters? ...\n",
      "Истинное значение: 28500\n",
      "Предсказание модели: 23415\n",
      "\n",
      "Пример 6========================================\n",
      "\n",
      "Текст вакансии: Our client is currently recruiting for an individual to provide secretarial and administrative support primarily for two directors but also supporting the other senior members of the team. Duties will...\n",
      "Истинное значение: 23000\n",
      "Предсказание модели: 22516\n",
      "\n",
      "Пример 7========================================\n",
      "\n",
      "Текст вакансии: Chef Manager  Fantastic Catering Company (MonFri)  Chef Manager Woking  MondayFriday  Chef Manager salary  ****k  **** staff on site Chef Manager role: We currently have a wonderful opportunity for a ...\n",
      "Истинное значение: 29500\n",
      "Предсказание модели: 20137\n",
      "\n",
      "Пример 8========================================\n",
      "\n",
      "Текст вакансии: .NET Developer (ASP.NET, C, C.NET, dot NET, Web Application Development, .NET **** ASP.NET MVC **** Razor, WCF, Continuous Integration, Dependency Injection, Ninject, Spring.net, IoC, Unity, Castle Wi...\n",
      "Истинное значение: 40000\n",
      "Предсказание модели: 40951\n",
      "\n",
      "Пример 9========================================\n",
      "\n",
      "Текст вакансии: A great opportunity for an experienced midweight to join a driven, dynamic and growing top 100 leading law firm as their sole inhouse designer. As part of their busy multidisciplinary Business Develop...\n",
      "Истинное значение: 27500\n",
      "Предсказание модели: 29476\n",
      "\n",
      "Пример 10========================================\n",
      "\n",
      "Текст вакансии: Trust Education are looking to recruit teachers required to cover PPA across all key stages. Our client is very proud of their school and is committed to providing the very best possible education for...\n",
      "Истинное значение: 31500\n",
      "Предсказание модели: 29775\n",
      "\n"
     ]
    }
   ],
   "source": [
    "idxs = np.random.choice(len(dataset.index), 10)\n",
    "i=0\n",
    "with torch.no_grad():\n",
    "    for idx in np.array(dataset.index)[idxs]:\n",
    "        i+=1\n",
    "        text, target = dataset.loc[idx]\n",
    "        tokens = vocab(tokenizer(text))\n",
    "        tokens = torch.LongTensor(tokens).to(device)\n",
    "        output = model(tokens).squeeze(1)\n",
    "        pred = scaler.inverse_transform(output.cpu()[-1].reshape(1, -1))\n",
    "        print(f'Пример {i}'+'='*40+'\\n')\n",
    "        print(f'Текст вакансии: {text[:200]}...')\n",
    "        print(f'Истинное значение: {target}')\n",
    "        print(f'Предсказание модели: {int(pred.item())}\\n')"
   ]
  },
  {
   "cell_type": "code",
   "execution_count": 38,
   "id": "8db402c3-5638-4d9e-af6e-9483a9a923e0",
   "metadata": {
    "execution": {
     "iopub.execute_input": "2024-03-29T18:18:17.413740Z",
     "iopub.status.busy": "2024-03-29T18:18:17.413461Z",
     "iopub.status.idle": "2024-03-29T18:18:21.302544Z",
     "shell.execute_reply": "2024-03-29T18:18:21.302229Z",
     "shell.execute_reply.started": "2024-03-29T18:18:17.413717Z"
    }
   },
   "outputs": [
    {
     "name": "stderr",
     "output_type": "stream",
     "text": [
      "/tmp/ipykernel_125960/4289008314.py:10: UserWarning: Using a target size (torch.Size([64, 1])) that is different to the input size (torch.Size([10, 64, 1])). This will likely lead to incorrect results due to broadcasting. Please ensure they have the same size.\n",
      "  return F.mse_loss(preds, y, reduction=\"mean\")\n",
      "/tmp/ipykernel_125960/4289008314.py:10: UserWarning: Using a target size (torch.Size([16, 1])) that is different to the input size (torch.Size([10, 16, 1])). This will likely lead to incorrect results due to broadcasting. Please ensure they have the same size.\n",
      "  return F.mse_loss(preds, y, reduction=\"mean\")\n"
     ]
    },
    {
     "data": {
      "text/plain": [
       "0.004097212513145345"
      ]
     },
     "execution_count": 38,
     "metadata": {},
     "output_type": "execute_result"
    }
   ],
   "source": [
    "mse_value = evaluate(model, valid_loader, criterion)[0]\n",
    "mse_value"
   ]
  },
  {
   "cell_type": "markdown",
   "id": "99c0be8f-22cf-419a-9464-3e64faa31fe7",
   "metadata": {
    "execution": {
     "iopub.execute_input": "2024-03-29T18:17:11.959176Z",
     "iopub.status.busy": "2024-03-29T18:17:11.958996Z",
     "iopub.status.idle": "2024-03-29T18:17:11.961609Z",
     "shell.execute_reply": "2024-03-29T18:17:11.961237Z",
     "shell.execute_reply.started": "2024-03-29T18:17:11.959161Z"
    }
   },
   "source": [
    "Итого MSE на валидационной выборке после обучения на 20 эпохах: ~0.0041"
   ]
  },
  {
   "cell_type": "markdown",
   "id": "92a23329",
   "metadata": {
    "id": "92a23329"
   },
   "source": [
    "**Вывод:**\n",
    "\n",
    "Нам удалось воспользоваться RNN для решения задачи прогнозирования зарплаты из описания работы.\n",
    "\n",
    "Из рассмотрения моделей с разными параметрами можно заметить следующее:\n",
    "\n",
    "1. На качество обучения сильно влияет количество слоев у модели. При большем количестве слоев модель выдает лучший результат\n",
    "2. Количество эпох не должно быть слишком маленьким, так как тогда модель не успеет нормально обучиться. Но делать их количество слишком большим тоже не слишком помогает, так как в какой-то момент (для нашей модели это где-то 11 эпоха) модель начнет переобучаться и улучшений больше не будет. "
   ]
  },
  {
   "cell_type": "markdown",
   "id": "3dc296de",
   "metadata": {
    "id": "3dc296de"
   },
   "source": [
    "---\n",
    "### Задача 2. Использование большой языковой модели\n"
   ]
  },
  {
   "cell_type": "markdown",
   "id": "8099f7ad",
   "metadata": {
    "id": "8099f7ad"
   },
   "source": [
    "Ваша задача &mdash; применить <a target=\"_blank\" href=\"https://llama-2.ai/\">Llama 2</a> к предыдущей задаче и заставить ее предсказать заработную плату по текстовому описанию. Существует мало русскоязычных моделей, способных решить такую задачу и помещающихся в <a target=\"_blank\" href=\"https://colab.research.google.com/\">Colab</a>, поэтому вам придется писать запросы на английском!"
   ]
  },
  {
   "cell_type": "code",
   "execution_count": null,
   "id": "1a7d4592",
   "metadata": {
    "id": "1a7d4592"
   },
   "outputs": [],
   "source": [
    "!pip install bitsandbytes==0.41.1 transformers==4.34.1 accelerate==0.24.0 sentencepiece==0.1.99 optimum==1.13.2 auto-gptq==0.4.2  > null\n",
    "import transformers\n",
    "import bitsandbytes as bnb\n",
    "\n",
    "assert torch.cuda.is_available(), \"для этой части понадобится GPU\""
   ]
  },
  {
   "cell_type": "markdown",
   "id": "e154b2c4",
   "metadata": {
    "id": "e154b2c4"
   },
   "source": [
    "Дисклеймер: *использовать LLM в рамках ограничений Colab хоть и возможно, но очень трудно.*\n",
    "\n",
    "> Так как процесс генерации очень хрупкий и может сломаться при любом неверном движении, мы настоятельно рекомендуем **сохранить результаты предыдущего задания в отдельном файле** и приступать к этой задаче в самом конце. Решения задач можно сдавать в бот разными файлами.\n",
    "\n",
    "> Если у вас возникла ошибка `Out of memory`, перезапустите ноутбук и попробуйте снова. Да, языковые модели без своей GPU &mdash; это тяжело..."
   ]
  },
  {
   "cell_type": "markdown",
   "id": "f50fa96c",
   "metadata": {
    "id": "f50fa96c"
   },
   "source": [
    "\n",
    "\n",
    "\n",
    "\n",
    "От вас требуется подобрать такой промпт, который приводил бы к нужному выводу модели. Можете экспериментировать с параметрами генерации, список которых можно посмотреть в <a target=\"_blank\" href=\"https://github.com/huggingface/transformers/blob/c4d4e8bdbd25d9463d41de6398940329c89b7fb6/src/transformers/generation_utils.py#L101\">исходнике</a>.\n",
    "\n",
    "Существуют различные техники, которые могут помочь вам \"разговорить\" языковую модель. О многих из них вы сможете прочитать <a target=\"_blank\" href=\"https://docs.mistral.ai/guides/prompting-capabilities/\">здесь</a>. В нашем случае полезным может быть метод Few-Shot Learning, который заключается в предоставлении модели нескольких примеров."
   ]
  },
  {
   "cell_type": "code",
   "execution_count": null,
   "id": "3d0ba8e1",
   "metadata": {
    "colab": {
     "base_uri": "https://localhost:8080/",
     "height": 365,
     "referenced_widgets": [
      "3e9f1516c717482299fe02aca76d31ce",
      "4401cfcb1f4a4c428eac97ea7d8e2656",
      "079fa69bb5ad450592c6ede1a9ed050f",
      "6a504e1c06b64fdbbf5395527e39f66e",
      "7afefc9aa9c44d2c95803157ae967e18",
      "75cba7280b3e41e6b70b26aa6a0e75c5",
      "22d045a4838447d7ab49cbc3834f4d4d",
      "7141476b1f1b408e89a218f2d3e27ef0",
      "f804b272f3bf4068b66e5b6a6723816d",
      "089f14de338b4cd98bd5ee6a0405aed1",
      "d71dde0375f04863a7df33a9e1e624fd",
      "c00e389c27cf4f2dac0a59ba78abbe0f",
      "2d4eb4162c2d474d9debc8b01c8f4e3c",
      "226ae6e549a7479abf29b02e174112b9",
      "ad7f38df3c6f477d8b16d52cbd495bd2",
      "04eea1cc66bc413b8a09bfb876faffb8",
      "80f3b0c7f7834383803fc6eb95dab40b",
      "2145814712184339afc173d39c304908",
      "50ced7d9f9c14bae824aeabf321146de",
      "c585575a29ef480ea294affd17bf609c",
      "a3af8c69bf474f66adf8c9248ea6193e",
      "5529878cdfd3451aa0cf77e6d9fe53d7",
      "d7a8a4c22fe9419fbd7373bbd75e5ca5",
      "bbf3d0a50e684399a2cb39bd8c8c191a",
      "c88e8760f0fc46b6a3d6ad36a9279582",
      "6acc493349c14b0c85e802cfa04ee391",
      "64af58216aaf442da349a258ec957c60",
      "c6c3b64d34bd492ea763b9db09abad8c",
      "def8080b1e874c13867236379032162b",
      "42b37f9daaef4ee0a74094f75f70160f",
      "4b1a3d6262d649669c42c53628cdc16a",
      "e8698dd43aa748f8b38cff6ecb1094e0",
      "a45dc251d367445bbccb0735ef1a42fc",
      "a0d825785a3941d08b9614ce1f54532d",
      "adaeff1406bd49dfab5e6f7dc09dd784",
      "db0a7d45057c4b8da97eb7d6f83940ee",
      "f79ea0e31cdb4835ae9baf9c2e51cde3",
      "743bdc236db443c181e6c4b7d9324f79",
      "b7abd439b51e4852ab8a2c480f2519f4",
      "154d1237cbc948c8a106353802435d1f",
      "f8fc4b68ef484bc0a131d2d3557a1548",
      "3843af90408246e5ad16633879aa6275",
      "44d406b0d268493d8e2d52f4a10a7319",
      "0a2175a50c1f4646bfdbb798e207cf95",
      "556a8e65ec8a434a8030fb5ca33ee758",
      "3b0d00a7a99b4ce19d68c8a093dbc7a3",
      "6e6dbb2588a54095843d2196abd0084c",
      "8da2c9d501c949718d51ca94cce2d76c",
      "16a15c49b8e14f13ac2cd7989fc4a11a",
      "c67fbac14b4f49e4850d61de66a4580a",
      "32d696f8c812494e9a199dfcaceb77ca",
      "1337bc4c15b3456c8c2e1832b728b29c",
      "f94fca25c6514ca5a99092d12b2ae8b7",
      "77426c8bbe5c4ae099c5a0be3f05b196",
      "9689f22b58e44852bd6a60c7f0344aed",
      "54ab6b1e057f47889c629290f3f4b9b3",
      "418f63c4b71946f8931e29052fd033d4",
      "b92abef67d1e419d9b65d35d4f380d19",
      "0cdcd661df524b56963d6abf12a12adf",
      "f61f2d0f24f244b693653bccf5fc9256",
      "9d6b61b9c85246f3970ca2fb6f116c10",
      "933b8bcb4b8949919f02491fe04ecb94",
      "fa68ab5ec39746009c26bc9c70f69f4a",
      "56ba98718f304befa7b62ea6845d2b8f",
      "1ad4f15f30cf451fbb053633596d154d",
      "0236d8d9b8e9404b8c460a205d6d8adc",
      "4c8a46ae8c31444c88aece0e427da0fd",
      "7eca09e8de3f45759495b5f5037928bd",
      "7ead7ec8c5d44ce7b358643c525ab9ad",
      "fbfa0f738b0f4947bb48e3e4933a4acb",
      "10143d6140054eef95e2687b1c702748",
      "fd95caf63be24f8b90fc10cf34396389",
      "7a77f1d645944f238b94a46ef514af11",
      "78dab4f0f0e74f07a7bc8b42a4fedfa2",
      "cda98b039be04b948ad0f931925974bd",
      "398b80d23ead49c6a319ef85ae1a3a79",
      "d235eebc98a54b67b9cc9f179db0bfed"
     ]
    },
    "id": "3d0ba8e1",
    "outputId": "4180c56c-c493-4133-ee05-8ad2f702bd2c"
   },
   "outputs": [
    {
     "data": {
      "application/vnd.jupyter.widget-view+json": {
       "model_id": "3e9f1516c717482299fe02aca76d31ce",
       "version_major": 2,
       "version_minor": 0
      },
      "text/plain": [
       "Downloading tokenizer_config.json:   0%|          | 0.00/727 [00:00<?, ?B/s]"
      ]
     },
     "metadata": {},
     "output_type": "display_data"
    },
    {
     "data": {
      "application/vnd.jupyter.widget-view+json": {
       "model_id": "c00e389c27cf4f2dac0a59ba78abbe0f",
       "version_major": 2,
       "version_minor": 0
      },
      "text/plain": [
       "Downloading tokenizer.model:   0%|          | 0.00/500k [00:00<?, ?B/s]"
      ]
     },
     "metadata": {},
     "output_type": "display_data"
    },
    {
     "data": {
      "application/vnd.jupyter.widget-view+json": {
       "model_id": "d7a8a4c22fe9419fbd7373bbd75e5ca5",
       "version_major": 2,
       "version_minor": 0
      },
      "text/plain": [
       "Downloading (…)cial_tokens_map.json:   0%|          | 0.00/411 [00:00<?, ?B/s]"
      ]
     },
     "metadata": {},
     "output_type": "display_data"
    },
    {
     "data": {
      "application/vnd.jupyter.widget-view+json": {
       "model_id": "a0d825785a3941d08b9614ce1f54532d",
       "version_major": 2,
       "version_minor": 0
      },
      "text/plain": [
       "Downloading tokenizer.json:   0%|          | 0.00/1.84M [00:00<?, ?B/s]"
      ]
     },
     "metadata": {},
     "output_type": "display_data"
    },
    {
     "name": "stderr",
     "output_type": "stream",
     "text": [
      "You are using the default legacy behaviour of the <class 'transformers.models.llama.tokenization_llama.LlamaTokenizer'>. This is expected, and simply means that the `legacy` (previous) behavior will be used so nothing changes for you. If you want to use the new behaviour, set `legacy=False`. This should only be set if you understand what it means, and thouroughly read the reason why this was added as explained in https://github.com/huggingface/transformers/pull/24565\n"
     ]
    },
    {
     "data": {
      "application/vnd.jupyter.widget-view+json": {
       "model_id": "556a8e65ec8a434a8030fb5ca33ee758",
       "version_major": 2,
       "version_minor": 0
      },
      "text/plain": [
       "Downloading config.json:   0%|          | 0.00/913 [00:00<?, ?B/s]"
      ]
     },
     "metadata": {},
     "output_type": "display_data"
    },
    {
     "name": "stderr",
     "output_type": "stream",
     "text": [
      "/usr/local/lib/python3.10/dist-packages/transformers/utils/generic.py:311: UserWarning: torch.utils._pytree._register_pytree_node is deprecated. Please use torch.utils._pytree.register_pytree_node instead.\n",
      "  torch.utils._pytree._register_pytree_node(\n",
      "/usr/local/lib/python3.10/dist-packages/transformers/utils/generic.py:311: UserWarning: torch.utils._pytree._register_pytree_node is deprecated. Please use torch.utils._pytree.register_pytree_node instead.\n",
      "  torch.utils._pytree._register_pytree_node(\n"
     ]
    },
    {
     "data": {
      "application/vnd.jupyter.widget-view+json": {
       "model_id": "54ab6b1e057f47889c629290f3f4b9b3",
       "version_major": 2,
       "version_minor": 0
      },
      "text/plain": [
       "Downloading model.safetensors:   0%|          | 0.00/7.26G [00:00<?, ?B/s]"
      ]
     },
     "metadata": {},
     "output_type": "display_data"
    },
    {
     "name": "stderr",
     "output_type": "stream",
     "text": [
      "WARNING:auto_gptq.nn_modules.qlinear.qlinear_cuda_old:CUDA extension not installed.\n"
     ]
    },
    {
     "data": {
      "application/vnd.jupyter.widget-view+json": {
       "model_id": "4c8a46ae8c31444c88aece0e427da0fd",
       "version_major": 2,
       "version_minor": 0
      },
      "text/plain": [
       "Downloading generation_config.json:   0%|          | 0.00/132 [00:00<?, ?B/s]"
      ]
     },
     "metadata": {},
     "output_type": "display_data"
    }
   ],
   "source": [
    "model_name = \"TheBloke/Llama-2-13B-GPTQ\"\n",
    "\n",
    "# Загружаем Llama токенизатор\n",
    "tokenizer = transformers.LlamaTokenizer.from_pretrained(\n",
    "    model_name, device_map=device\n",
    ")\n",
    "tokenizer.pad_token_id = tokenizer.eos_token_id\n",
    "\n",
    "# И саму модель Llama\n",
    "model = transformers.AutoModelForCausalLM.from_pretrained(\n",
    "    model_name,\n",
    "    device_map=\"auto\",\n",
    "    torch_dtype=torch.float16,\n",
    "    low_cpu_mem_usage=True,\n",
    "    offload_state_dict=True,\n",
    ")"
   ]
  },
  {
   "cell_type": "code",
   "execution_count": null,
   "id": "168d479a",
   "metadata": {
    "colab": {
     "base_uri": "https://localhost:8080/"
    },
    "id": "168d479a",
    "outputId": "63d04c9f-097a-4449-b138-802f76a13c26"
   },
   "outputs": [
    {
     "name": "stdout",
     "output_type": "stream",
     "text": [
      "\n",
      "Output: <s>Your task is to predict salary based on a job text description. \n",
      "\n",
      "            ###\n",
      "            Here are some examples:\n",
      "            Description: Our client is looking for a .net web developer with strong experience of of developing webbased applications using ASP.NET, JavaScript, AJAX, XML, XSLT and CSS. \n",
      "            You will be able to design/develop and maintain databases using SQL and stored producers. You will have excellent problem solving skills and able to manage \n",
      "            projects to tight declines. This is an excellent development role with great career progression\n",
      "            Salary: 27500\n",
      "            \n",
      "            Description: ACADEMIC APPOINTMENTS A large secondary school in Leeds is seeking a teacher of Science for a long term position , \n",
      "            potentially starting immediately . The school have fantastic new facilities, and are looking for an innovative, confident and dedicated practitioner, who will help \n",
      "            them on the road to becoming Outstanding. All candidates require a recognised teaching qualification, and should be able to demonstrate recent experience in \n",
      "            delivering Chemistry and Biology to GCSE. Academic Appointments is committed to safeguarding and promoting the welfare of children and young people. All posts \n",
      "            are subject to an enhanced CRB check and referencing.\n",
      "            Salary: 32400\n",
      "            \n",
      "            Description:\n",
      "            Head of User Experience  c. ****k / London A Head of User Experience / Senior Information Architect / Senior UX Consultant is required to drive forward the success \n",
      "            of the websites for one of the UK's largest newspaper publishers. This is an excellent opportunity for a Head of User Experience / Senior Information Architect / Senior UX \n",
      "            Consultant to take real control of the User Experience within the company, building the processes and standards, implementation and training, with the long term view being \n",
      "            to build a UX team within the company. The Head of User Experience / Senior Information Architect / Senior UX Consultant will be responsible for: Building and implementing \n",
      "            all UX processes, wireframes and relevant documentation Working with various internal stakeholders on the education of UX, its purpose and how it will contribute within the \n",
      "            company Developing various user experiences for a variety of platforms, including mobile, apps and websites Ownership of the user experience project lifecycle, from users to \n",
      "            deliverables, including types, scenarios, journeys, wireframes etc. Running user experience activities on complex, multiple work stream projects \n",
      "            The Head of User Experience / Senior Information Architect / Senior UX Consultant must: Have extensive UX / IA experience, preferably within an online content \n",
      "            driven / eCommerce environment Proven experience of running projects, including multiple work streams Be experienced in using the various technologies and software \n",
      "            platforms involved, including HTML, Javascript, Flash, CSS & CMS Be skilled in wireframing, including the use of relevant design tools Have ideally worked within an \n",
      "            Agile environment Be a self starter with a good appreciation of business and commercial values Have excellent communication skills and be able to transmit this across \n",
      "            various stakeholders The role offers significant career progression and the opportunity to take control of the UX function with a view to building and leading a UX team \n",
      "            in the near future. The company offers an excellent package, including pension and life cover. Intelligent People is a specialist Head of User Experience Recruitment Agency.\n",
      "            Salary: 67500\n",
      "            ###\n",
      "\n",
      "            \n",
      "            Description: We are a new fast growing Internet/Telecoms company Klick2Contact (), established in 2010 which offers a full intuitive suite of Live Help services to companies thought \n",
      "            the UK and Europe with ecommerce websites. These services help increase their online sales and decrease their website abandonment and more besides We have customers like \n",
      "            Next plc and Yodel and Ryanair in the UK and customers all across Europe too. We want experienced, enthusiastic telesales people to work from home and make appointments \n",
      "            for our UK sales people and to sell to small companies on the phone as well. We provide full training and marketing back up via ecasts, web and collateral and both a good \n",
      "            salary and commission and you can work from home anywhere in the UK. We will pay for your phone calls and your internet. Why not become part of our future success? We will \n",
      "            consider Part Time too. ****  **** depending on experience. Phone bill and internet paid too.\n",
      "            What is the salary for this job?\n",
      "            \n",
      "            Salary: 20000\n",
      "            \n",
      "            ###\n",
      "                        \n",
      "            ###\n",
      "            Your program will take as input your current estimate of salary, and for each of the jobs, you will compute an updated estimate of salary based on the description. \n",
      "            Then, print\n",
      "Input batch (encoded): {'input_ids': tensor([[    1,  3575,  3414,  ..., 29973,    13,   632]], device='cuda:0'), 'attention_mask': tensor([[1, 1, 1,  ..., 1, 1, 1]], device='cuda:0')}\n"
     ]
    }
   ],
   "source": [
    "prompt = '''Your task is to predict salary based on a job text description.\n",
    "\n",
    "            ###\n",
    "            Here are some examples:\n",
    "            Description: Our client is looking for a .net web developer with strong experience of of developing webbased applications using ASP.NET, JavaScript, AJAX, XML, XSLT and CSS.\n",
    "            You will be able to design/develop and maintain databases using SQL and stored producers. You will have excellent problem solving skills and able to manage\n",
    "            projects to tight declines. This is an excellent development role with great career progression\n",
    "            Salary: 27500\n",
    "\n",
    "            Description: ACADEMIC APPOINTMENTS A large secondary school in Leeds is seeking a teacher of Science for a long term position ,\n",
    "            potentially starting immediately . The school have fantastic new facilities, and are looking for an innovative, confident and dedicated practitioner, who will help\n",
    "            them on the road to becoming Outstanding. All candidates require a recognised teaching qualification, and should be able to demonstrate recent experience in\n",
    "            delivering Chemistry and Biology to GCSE. Academic Appointments is committed to safeguarding and promoting the welfare of children and young people. All posts\n",
    "            are subject to an enhanced CRB check and referencing.\n",
    "            Salary: 32400\n",
    "\n",
    "            Description:\n",
    "            Head of User Experience  c. ****k / London A Head of User Experience / Senior Information Architect / Senior UX Consultant is required to drive forward the success\n",
    "            of the websites for one of the UK's largest newspaper publishers. This is an excellent opportunity for a Head of User Experience / Senior Information Architect / Senior UX\n",
    "            Consultant to take real control of the User Experience within the company, building the processes and standards, implementation and training, with the long term view being\n",
    "            to build a UX team within the company. The Head of User Experience / Senior Information Architect / Senior UX Consultant will be responsible for: Building and implementing\n",
    "            all UX processes, wireframes and relevant documentation Working with various internal stakeholders on the education of UX, its purpose and how it will contribute within the\n",
    "            company Developing various user experiences for a variety of platforms, including mobile, apps and websites Ownership of the user experience project lifecycle, from users to\n",
    "            deliverables, including types, scenarios, journeys, wireframes etc. Running user experience activities on complex, multiple work stream projects\n",
    "            The Head of User Experience / Senior Information Architect / Senior UX Consultant must: Have extensive UX / IA experience, preferably within an online content\n",
    "            driven / eCommerce environment Proven experience of running projects, including multiple work streams Be experienced in using the various technologies and software\n",
    "            platforms involved, including HTML, Javascript, Flash, CSS & CMS Be skilled in wireframing, including the use of relevant design tools Have ideally worked within an\n",
    "            Agile environment Be a self starter with a good appreciation of business and commercial values Have excellent communication skills and be able to transmit this across\n",
    "            various stakeholders The role offers significant career progression and the opportunity to take control of the UX function with a view to building and leading a UX team\n",
    "            in the near future. The company offers an excellent package, including pension and life cover. Intelligent People is a specialist Head of User Experience Recruitment Agency.\n",
    "            Salary: 67500\n",
    "            ###\n",
    "\n",
    "\n",
    "            Description: We are a new fast growing Internet/Telecoms company Klick2Contact (), established in 2010 which offers a full intuitive suite of Live Help services to companies thought\n",
    "            the UK and Europe with ecommerce websites. These services help increase their online sales and decrease their website abandonment and more besides We have customers like\n",
    "            Next plc and Yodel and Ryanair in the UK and customers all across Europe too. We want experienced, enthusiastic telesales people to work from home and make appointments\n",
    "            for our UK sales people and to sell to small companies on the phone as well. We provide full training and marketing back up via ecasts, web and collateral and both a good\n",
    "            salary and commission and you can work from home anywhere in the UK. We will pay for your phone calls and your internet. Why not become part of our future success? We will\n",
    "            consider Part Time too. ****  **** depending on experience. Phone bill and internet paid too.\n",
    "            What is the salary for this job?\n",
    "            '''\n",
    "batch = tokenizer(prompt, return_tensors='pt', return_token_type_ids=False).to(device)\n",
    "\n",
    "output_tokens = model.generate(**batch, max_new_tokens=64, do_sample=True, temperature=0.8)\n",
    "\n",
    "print(\"\\nOutput:\", tokenizer.decode(output_tokens[0].cpu()))\n",
    "\n",
    "print(\"Input batch (encoded):\", batch)"
   ]
  },
  {
   "cell_type": "markdown",
   "id": "44c5b71a",
   "metadata": {
    "id": "44c5b71a"
   },
   "source": [
    "Если почувствуете, что у вас не получается добиться от модели желаемого, вы можете попробовать воспользоваться любой другой языковой моделью на ваш выбор, но тогда вы получите **не больше 30 баллов**.\n",
    "\n",
    "В случае использования другой модели предоставьте скриншот ответа LLM и промпт, который вы использовали (в текстовом формате). Его можно вставить прямо в ноутбук или прислать в бот отдельным файлом."
   ]
  },
  {
   "cell_type": "markdown",
   "id": "678a6737",
   "metadata": {
    "id": "678a6737"
   },
   "source": [
    "**Вывод:**\n",
    "\n",
    "У нас получилось воспользоваться модель Llama 2 и применить ее для решения нашей задачи. Для обучения мы использовали способ few-shot, чтобы дать модели несколько примеров. Можем получить, что модель способна научится решать новые задачи, если предварительно рассмотрит несколько примеров с пояснениями. "
   ]
  },
  {
   "cell_type": "markdown",
   "id": "020fee33",
   "metadata": {
    "id": "020fee33"
   },
   "source": [
    "---\n",
    "*Если хотите отточить навык написания промптов &mdash; **prompt-engineering** &mdash; можете попробовать сыграть в <a target=\"_blank\" href=\"https://gandalf.lakera.ai/\">игру</a>. В ней нужно заставить Гендальфа выдать пароль. Со временем уровни становятся все сложнее и требуют более хитрых приемов.*"
   ]
  }
 ],
 "metadata": {
  "accelerator": "GPU",
  "colab": {
   "gpuType": "T4",
   "provenance": []
  },
  "hide_input": false,
  "kernelspec": {
   "display_name": "Python 3 (ipykernel)",
   "language": "python",
   "name": "python3"
  },
  "language_info": {
   "codemirror_mode": {
    "name": "ipython",
    "version": 3
   },
   "file_extension": ".py",
   "mimetype": "text/x-python",
   "name": "python",
   "nbconvert_exporter": "python",
   "pygments_lexer": "ipython3",
   "version": "3.10.13"
  },
  "widgets": {
   "application/vnd.jupyter.widget-state+json": {
    "0236d8d9b8e9404b8c460a205d6d8adc": {
     "model_module": "@jupyter-widgets/controls",
     "model_module_version": "1.5.0",
     "model_name": "DescriptionStyleModel",
     "state": {
      "_model_module": "@jupyter-widgets/controls",
      "_model_module_version": "1.5.0",
      "_model_name": "DescriptionStyleModel",
      "_view_count": null,
      "_view_module": "@jupyter-widgets/base",
      "_view_module_version": "1.2.0",
      "_view_name": "StyleView",
      "description_width": ""
     }
    },
    "04eea1cc66bc413b8a09bfb876faffb8": {
     "model_module": "@jupyter-widgets/base",
     "model_module_version": "1.2.0",
     "model_name": "LayoutModel",
     "state": {
      "_model_module": "@jupyter-widgets/base",
      "_model_module_version": "1.2.0",
      "_model_name": "LayoutModel",
      "_view_count": null,
      "_view_module": "@jupyter-widgets/base",
      "_view_module_version": "1.2.0",
      "_view_name": "LayoutView",
      "align_content": null,
      "align_items": null,
      "align_self": null,
      "border": null,
      "bottom": null,
      "display": null,
      "flex": null,
      "flex_flow": null,
      "grid_area": null,
      "grid_auto_columns": null,
      "grid_auto_flow": null,
      "grid_auto_rows": null,
      "grid_column": null,
      "grid_gap": null,
      "grid_row": null,
      "grid_template_areas": null,
      "grid_template_columns": null,
      "grid_template_rows": null,
      "height": null,
      "justify_content": null,
      "justify_items": null,
      "left": null,
      "margin": null,
      "max_height": null,
      "max_width": null,
      "min_height": null,
      "min_width": null,
      "object_fit": null,
      "object_position": null,
      "order": null,
      "overflow": null,
      "overflow_x": null,
      "overflow_y": null,
      "padding": null,
      "right": null,
      "top": null,
      "visibility": null,
      "width": null
     }
    },
    "079fa69bb5ad450592c6ede1a9ed050f": {
     "model_module": "@jupyter-widgets/controls",
     "model_module_version": "1.5.0",
     "model_name": "FloatProgressModel",
     "state": {
      "_dom_classes": [],
      "_model_module": "@jupyter-widgets/controls",
      "_model_module_version": "1.5.0",
      "_model_name": "FloatProgressModel",
      "_view_count": null,
      "_view_module": "@jupyter-widgets/controls",
      "_view_module_version": "1.5.0",
      "_view_name": "ProgressView",
      "bar_style": "success",
      "description": "",
      "description_tooltip": null,
      "layout": "IPY_MODEL_7141476b1f1b408e89a218f2d3e27ef0",
      "max": 727,
      "min": 0,
      "orientation": "horizontal",
      "style": "IPY_MODEL_f804b272f3bf4068b66e5b6a6723816d",
      "value": 727
     }
    },
    "089f14de338b4cd98bd5ee6a0405aed1": {
     "model_module": "@jupyter-widgets/base",
     "model_module_version": "1.2.0",
     "model_name": "LayoutModel",
     "state": {
      "_model_module": "@jupyter-widgets/base",
      "_model_module_version": "1.2.0",
      "_model_name": "LayoutModel",
      "_view_count": null,
      "_view_module": "@jupyter-widgets/base",
      "_view_module_version": "1.2.0",
      "_view_name": "LayoutView",
      "align_content": null,
      "align_items": null,
      "align_self": null,
      "border": null,
      "bottom": null,
      "display": null,
      "flex": null,
      "flex_flow": null,
      "grid_area": null,
      "grid_auto_columns": null,
      "grid_auto_flow": null,
      "grid_auto_rows": null,
      "grid_column": null,
      "grid_gap": null,
      "grid_row": null,
      "grid_template_areas": null,
      "grid_template_columns": null,
      "grid_template_rows": null,
      "height": null,
      "justify_content": null,
      "justify_items": null,
      "left": null,
      "margin": null,
      "max_height": null,
      "max_width": null,
      "min_height": null,
      "min_width": null,
      "object_fit": null,
      "object_position": null,
      "order": null,
      "overflow": null,
      "overflow_x": null,
      "overflow_y": null,
      "padding": null,
      "right": null,
      "top": null,
      "visibility": null,
      "width": null
     }
    },
    "0a2175a50c1f4646bfdbb798e207cf95": {
     "model_module": "@jupyter-widgets/controls",
     "model_module_version": "1.5.0",
     "model_name": "DescriptionStyleModel",
     "state": {
      "_model_module": "@jupyter-widgets/controls",
      "_model_module_version": "1.5.0",
      "_model_name": "DescriptionStyleModel",
      "_view_count": null,
      "_view_module": "@jupyter-widgets/base",
      "_view_module_version": "1.2.0",
      "_view_name": "StyleView",
      "description_width": ""
     }
    },
    "0cdcd661df524b56963d6abf12a12adf": {
     "model_module": "@jupyter-widgets/controls",
     "model_module_version": "1.5.0",
     "model_name": "HTMLModel",
     "state": {
      "_dom_classes": [],
      "_model_module": "@jupyter-widgets/controls",
      "_model_module_version": "1.5.0",
      "_model_name": "HTMLModel",
      "_view_count": null,
      "_view_module": "@jupyter-widgets/controls",
      "_view_module_version": "1.5.0",
      "_view_name": "HTMLView",
      "description": "",
      "description_tooltip": null,
      "layout": "IPY_MODEL_1ad4f15f30cf451fbb053633596d154d",
      "placeholder": "​",
      "style": "IPY_MODEL_0236d8d9b8e9404b8c460a205d6d8adc",
      "value": " 7.26G/7.26G [01:05&lt;00:00, 200MB/s]"
     }
    },
    "10143d6140054eef95e2687b1c702748": {
     "model_module": "@jupyter-widgets/base",
     "model_module_version": "1.2.0",
     "model_name": "LayoutModel",
     "state": {
      "_model_module": "@jupyter-widgets/base",
      "_model_module_version": "1.2.0",
      "_model_name": "LayoutModel",
      "_view_count": null,
      "_view_module": "@jupyter-widgets/base",
      "_view_module_version": "1.2.0",
      "_view_name": "LayoutView",
      "align_content": null,
      "align_items": null,
      "align_self": null,
      "border": null,
      "bottom": null,
      "display": null,
      "flex": null,
      "flex_flow": null,
      "grid_area": null,
      "grid_auto_columns": null,
      "grid_auto_flow": null,
      "grid_auto_rows": null,
      "grid_column": null,
      "grid_gap": null,
      "grid_row": null,
      "grid_template_areas": null,
      "grid_template_columns": null,
      "grid_template_rows": null,
      "height": null,
      "justify_content": null,
      "justify_items": null,
      "left": null,
      "margin": null,
      "max_height": null,
      "max_width": null,
      "min_height": null,
      "min_width": null,
      "object_fit": null,
      "object_position": null,
      "order": null,
      "overflow": null,
      "overflow_x": null,
      "overflow_y": null,
      "padding": null,
      "right": null,
      "top": null,
      "visibility": null,
      "width": null
     }
    },
    "1337bc4c15b3456c8c2e1832b728b29c": {
     "model_module": "@jupyter-widgets/base",
     "model_module_version": "1.2.0",
     "model_name": "LayoutModel",
     "state": {
      "_model_module": "@jupyter-widgets/base",
      "_model_module_version": "1.2.0",
      "_model_name": "LayoutModel",
      "_view_count": null,
      "_view_module": "@jupyter-widgets/base",
      "_view_module_version": "1.2.0",
      "_view_name": "LayoutView",
      "align_content": null,
      "align_items": null,
      "align_self": null,
      "border": null,
      "bottom": null,
      "display": null,
      "flex": null,
      "flex_flow": null,
      "grid_area": null,
      "grid_auto_columns": null,
      "grid_auto_flow": null,
      "grid_auto_rows": null,
      "grid_column": null,
      "grid_gap": null,
      "grid_row": null,
      "grid_template_areas": null,
      "grid_template_columns": null,
      "grid_template_rows": null,
      "height": null,
      "justify_content": null,
      "justify_items": null,
      "left": null,
      "margin": null,
      "max_height": null,
      "max_width": null,
      "min_height": null,
      "min_width": null,
      "object_fit": null,
      "object_position": null,
      "order": null,
      "overflow": null,
      "overflow_x": null,
      "overflow_y": null,
      "padding": null,
      "right": null,
      "top": null,
      "visibility": null,
      "width": null
     }
    },
    "154d1237cbc948c8a106353802435d1f": {
     "model_module": "@jupyter-widgets/controls",
     "model_module_version": "1.5.0",
     "model_name": "DescriptionStyleModel",
     "state": {
      "_model_module": "@jupyter-widgets/controls",
      "_model_module_version": "1.5.0",
      "_model_name": "DescriptionStyleModel",
      "_view_count": null,
      "_view_module": "@jupyter-widgets/base",
      "_view_module_version": "1.2.0",
      "_view_name": "StyleView",
      "description_width": ""
     }
    },
    "16a15c49b8e14f13ac2cd7989fc4a11a": {
     "model_module": "@jupyter-widgets/base",
     "model_module_version": "1.2.0",
     "model_name": "LayoutModel",
     "state": {
      "_model_module": "@jupyter-widgets/base",
      "_model_module_version": "1.2.0",
      "_model_name": "LayoutModel",
      "_view_count": null,
      "_view_module": "@jupyter-widgets/base",
      "_view_module_version": "1.2.0",
      "_view_name": "LayoutView",
      "align_content": null,
      "align_items": null,
      "align_self": null,
      "border": null,
      "bottom": null,
      "display": null,
      "flex": null,
      "flex_flow": null,
      "grid_area": null,
      "grid_auto_columns": null,
      "grid_auto_flow": null,
      "grid_auto_rows": null,
      "grid_column": null,
      "grid_gap": null,
      "grid_row": null,
      "grid_template_areas": null,
      "grid_template_columns": null,
      "grid_template_rows": null,
      "height": null,
      "justify_content": null,
      "justify_items": null,
      "left": null,
      "margin": null,
      "max_height": null,
      "max_width": null,
      "min_height": null,
      "min_width": null,
      "object_fit": null,
      "object_position": null,
      "order": null,
      "overflow": null,
      "overflow_x": null,
      "overflow_y": null,
      "padding": null,
      "right": null,
      "top": null,
      "visibility": null,
      "width": null
     }
    },
    "1ad4f15f30cf451fbb053633596d154d": {
     "model_module": "@jupyter-widgets/base",
     "model_module_version": "1.2.0",
     "model_name": "LayoutModel",
     "state": {
      "_model_module": "@jupyter-widgets/base",
      "_model_module_version": "1.2.0",
      "_model_name": "LayoutModel",
      "_view_count": null,
      "_view_module": "@jupyter-widgets/base",
      "_view_module_version": "1.2.0",
      "_view_name": "LayoutView",
      "align_content": null,
      "align_items": null,
      "align_self": null,
      "border": null,
      "bottom": null,
      "display": null,
      "flex": null,
      "flex_flow": null,
      "grid_area": null,
      "grid_auto_columns": null,
      "grid_auto_flow": null,
      "grid_auto_rows": null,
      "grid_column": null,
      "grid_gap": null,
      "grid_row": null,
      "grid_template_areas": null,
      "grid_template_columns": null,
      "grid_template_rows": null,
      "height": null,
      "justify_content": null,
      "justify_items": null,
      "left": null,
      "margin": null,
      "max_height": null,
      "max_width": null,
      "min_height": null,
      "min_width": null,
      "object_fit": null,
      "object_position": null,
      "order": null,
      "overflow": null,
      "overflow_x": null,
      "overflow_y": null,
      "padding": null,
      "right": null,
      "top": null,
      "visibility": null,
      "width": null
     }
    },
    "2145814712184339afc173d39c304908": {
     "model_module": "@jupyter-widgets/controls",
     "model_module_version": "1.5.0",
     "model_name": "DescriptionStyleModel",
     "state": {
      "_model_module": "@jupyter-widgets/controls",
      "_model_module_version": "1.5.0",
      "_model_name": "DescriptionStyleModel",
      "_view_count": null,
      "_view_module": "@jupyter-widgets/base",
      "_view_module_version": "1.2.0",
      "_view_name": "StyleView",
      "description_width": ""
     }
    },
    "226ae6e549a7479abf29b02e174112b9": {
     "model_module": "@jupyter-widgets/controls",
     "model_module_version": "1.5.0",
     "model_name": "FloatProgressModel",
     "state": {
      "_dom_classes": [],
      "_model_module": "@jupyter-widgets/controls",
      "_model_module_version": "1.5.0",
      "_model_name": "FloatProgressModel",
      "_view_count": null,
      "_view_module": "@jupyter-widgets/controls",
      "_view_module_version": "1.5.0",
      "_view_name": "ProgressView",
      "bar_style": "success",
      "description": "",
      "description_tooltip": null,
      "layout": "IPY_MODEL_50ced7d9f9c14bae824aeabf321146de",
      "max": 499723,
      "min": 0,
      "orientation": "horizontal",
      "style": "IPY_MODEL_c585575a29ef480ea294affd17bf609c",
      "value": 499723
     }
    },
    "22d045a4838447d7ab49cbc3834f4d4d": {
     "model_module": "@jupyter-widgets/controls",
     "model_module_version": "1.5.0",
     "model_name": "DescriptionStyleModel",
     "state": {
      "_model_module": "@jupyter-widgets/controls",
      "_model_module_version": "1.5.0",
      "_model_name": "DescriptionStyleModel",
      "_view_count": null,
      "_view_module": "@jupyter-widgets/base",
      "_view_module_version": "1.2.0",
      "_view_name": "StyleView",
      "description_width": ""
     }
    },
    "2d4eb4162c2d474d9debc8b01c8f4e3c": {
     "model_module": "@jupyter-widgets/controls",
     "model_module_version": "1.5.0",
     "model_name": "HTMLModel",
     "state": {
      "_dom_classes": [],
      "_model_module": "@jupyter-widgets/controls",
      "_model_module_version": "1.5.0",
      "_model_name": "HTMLModel",
      "_view_count": null,
      "_view_module": "@jupyter-widgets/controls",
      "_view_module_version": "1.5.0",
      "_view_name": "HTMLView",
      "description": "",
      "description_tooltip": null,
      "layout": "IPY_MODEL_80f3b0c7f7834383803fc6eb95dab40b",
      "placeholder": "​",
      "style": "IPY_MODEL_2145814712184339afc173d39c304908",
      "value": "Downloading tokenizer.model: 100%"
     }
    },
    "32d696f8c812494e9a199dfcaceb77ca": {
     "model_module": "@jupyter-widgets/controls",
     "model_module_version": "1.5.0",
     "model_name": "DescriptionStyleModel",
     "state": {
      "_model_module": "@jupyter-widgets/controls",
      "_model_module_version": "1.5.0",
      "_model_name": "DescriptionStyleModel",
      "_view_count": null,
      "_view_module": "@jupyter-widgets/base",
      "_view_module_version": "1.2.0",
      "_view_name": "StyleView",
      "description_width": ""
     }
    },
    "3843af90408246e5ad16633879aa6275": {
     "model_module": "@jupyter-widgets/controls",
     "model_module_version": "1.5.0",
     "model_name": "ProgressStyleModel",
     "state": {
      "_model_module": "@jupyter-widgets/controls",
      "_model_module_version": "1.5.0",
      "_model_name": "ProgressStyleModel",
      "_view_count": null,
      "_view_module": "@jupyter-widgets/base",
      "_view_module_version": "1.2.0",
      "_view_name": "StyleView",
      "bar_color": null,
      "description_width": ""
     }
    },
    "398b80d23ead49c6a319ef85ae1a3a79": {
     "model_module": "@jupyter-widgets/base",
     "model_module_version": "1.2.0",
     "model_name": "LayoutModel",
     "state": {
      "_model_module": "@jupyter-widgets/base",
      "_model_module_version": "1.2.0",
      "_model_name": "LayoutModel",
      "_view_count": null,
      "_view_module": "@jupyter-widgets/base",
      "_view_module_version": "1.2.0",
      "_view_name": "LayoutView",
      "align_content": null,
      "align_items": null,
      "align_self": null,
      "border": null,
      "bottom": null,
      "display": null,
      "flex": null,
      "flex_flow": null,
      "grid_area": null,
      "grid_auto_columns": null,
      "grid_auto_flow": null,
      "grid_auto_rows": null,
      "grid_column": null,
      "grid_gap": null,
      "grid_row": null,
      "grid_template_areas": null,
      "grid_template_columns": null,
      "grid_template_rows": null,
      "height": null,
      "justify_content": null,
      "justify_items": null,
      "left": null,
      "margin": null,
      "max_height": null,
      "max_width": null,
      "min_height": null,
      "min_width": null,
      "object_fit": null,
      "object_position": null,
      "order": null,
      "overflow": null,
      "overflow_x": null,
      "overflow_y": null,
      "padding": null,
      "right": null,
      "top": null,
      "visibility": null,
      "width": null
     }
    },
    "3b0d00a7a99b4ce19d68c8a093dbc7a3": {
     "model_module": "@jupyter-widgets/controls",
     "model_module_version": "1.5.0",
     "model_name": "HTMLModel",
     "state": {
      "_dom_classes": [],
      "_model_module": "@jupyter-widgets/controls",
      "_model_module_version": "1.5.0",
      "_model_name": "HTMLModel",
      "_view_count": null,
      "_view_module": "@jupyter-widgets/controls",
      "_view_module_version": "1.5.0",
      "_view_name": "HTMLView",
      "description": "",
      "description_tooltip": null,
      "layout": "IPY_MODEL_c67fbac14b4f49e4850d61de66a4580a",
      "placeholder": "​",
      "style": "IPY_MODEL_32d696f8c812494e9a199dfcaceb77ca",
      "value": "Downloading config.json: 100%"
     }
    },
    "3e9f1516c717482299fe02aca76d31ce": {
     "model_module": "@jupyter-widgets/controls",
     "model_module_version": "1.5.0",
     "model_name": "HBoxModel",
     "state": {
      "_dom_classes": [],
      "_model_module": "@jupyter-widgets/controls",
      "_model_module_version": "1.5.0",
      "_model_name": "HBoxModel",
      "_view_count": null,
      "_view_module": "@jupyter-widgets/controls",
      "_view_module_version": "1.5.0",
      "_view_name": "HBoxView",
      "box_style": "",
      "children": [
       "IPY_MODEL_4401cfcb1f4a4c428eac97ea7d8e2656",
       "IPY_MODEL_079fa69bb5ad450592c6ede1a9ed050f",
       "IPY_MODEL_6a504e1c06b64fdbbf5395527e39f66e"
      ],
      "layout": "IPY_MODEL_7afefc9aa9c44d2c95803157ae967e18"
     }
    },
    "418f63c4b71946f8931e29052fd033d4": {
     "model_module": "@jupyter-widgets/controls",
     "model_module_version": "1.5.0",
     "model_name": "HTMLModel",
     "state": {
      "_dom_classes": [],
      "_model_module": "@jupyter-widgets/controls",
      "_model_module_version": "1.5.0",
      "_model_name": "HTMLModel",
      "_view_count": null,
      "_view_module": "@jupyter-widgets/controls",
      "_view_module_version": "1.5.0",
      "_view_name": "HTMLView",
      "description": "",
      "description_tooltip": null,
      "layout": "IPY_MODEL_9d6b61b9c85246f3970ca2fb6f116c10",
      "placeholder": "​",
      "style": "IPY_MODEL_933b8bcb4b8949919f02491fe04ecb94",
      "value": "Downloading model.safetensors: 100%"
     }
    },
    "42b37f9daaef4ee0a74094f75f70160f": {
     "model_module": "@jupyter-widgets/base",
     "model_module_version": "1.2.0",
     "model_name": "LayoutModel",
     "state": {
      "_model_module": "@jupyter-widgets/base",
      "_model_module_version": "1.2.0",
      "_model_name": "LayoutModel",
      "_view_count": null,
      "_view_module": "@jupyter-widgets/base",
      "_view_module_version": "1.2.0",
      "_view_name": "LayoutView",
      "align_content": null,
      "align_items": null,
      "align_self": null,
      "border": null,
      "bottom": null,
      "display": null,
      "flex": null,
      "flex_flow": null,
      "grid_area": null,
      "grid_auto_columns": null,
      "grid_auto_flow": null,
      "grid_auto_rows": null,
      "grid_column": null,
      "grid_gap": null,
      "grid_row": null,
      "grid_template_areas": null,
      "grid_template_columns": null,
      "grid_template_rows": null,
      "height": null,
      "justify_content": null,
      "justify_items": null,
      "left": null,
      "margin": null,
      "max_height": null,
      "max_width": null,
      "min_height": null,
      "min_width": null,
      "object_fit": null,
      "object_position": null,
      "order": null,
      "overflow": null,
      "overflow_x": null,
      "overflow_y": null,
      "padding": null,
      "right": null,
      "top": null,
      "visibility": null,
      "width": null
     }
    },
    "4401cfcb1f4a4c428eac97ea7d8e2656": {
     "model_module": "@jupyter-widgets/controls",
     "model_module_version": "1.5.0",
     "model_name": "HTMLModel",
     "state": {
      "_dom_classes": [],
      "_model_module": "@jupyter-widgets/controls",
      "_model_module_version": "1.5.0",
      "_model_name": "HTMLModel",
      "_view_count": null,
      "_view_module": "@jupyter-widgets/controls",
      "_view_module_version": "1.5.0",
      "_view_name": "HTMLView",
      "description": "",
      "description_tooltip": null,
      "layout": "IPY_MODEL_75cba7280b3e41e6b70b26aa6a0e75c5",
      "placeholder": "​",
      "style": "IPY_MODEL_22d045a4838447d7ab49cbc3834f4d4d",
      "value": "Downloading tokenizer_config.json: 100%"
     }
    },
    "44d406b0d268493d8e2d52f4a10a7319": {
     "model_module": "@jupyter-widgets/base",
     "model_module_version": "1.2.0",
     "model_name": "LayoutModel",
     "state": {
      "_model_module": "@jupyter-widgets/base",
      "_model_module_version": "1.2.0",
      "_model_name": "LayoutModel",
      "_view_count": null,
      "_view_module": "@jupyter-widgets/base",
      "_view_module_version": "1.2.0",
      "_view_name": "LayoutView",
      "align_content": null,
      "align_items": null,
      "align_self": null,
      "border": null,
      "bottom": null,
      "display": null,
      "flex": null,
      "flex_flow": null,
      "grid_area": null,
      "grid_auto_columns": null,
      "grid_auto_flow": null,
      "grid_auto_rows": null,
      "grid_column": null,
      "grid_gap": null,
      "grid_row": null,
      "grid_template_areas": null,
      "grid_template_columns": null,
      "grid_template_rows": null,
      "height": null,
      "justify_content": null,
      "justify_items": null,
      "left": null,
      "margin": null,
      "max_height": null,
      "max_width": null,
      "min_height": null,
      "min_width": null,
      "object_fit": null,
      "object_position": null,
      "order": null,
      "overflow": null,
      "overflow_x": null,
      "overflow_y": null,
      "padding": null,
      "right": null,
      "top": null,
      "visibility": null,
      "width": null
     }
    },
    "4b1a3d6262d649669c42c53628cdc16a": {
     "model_module": "@jupyter-widgets/controls",
     "model_module_version": "1.5.0",
     "model_name": "ProgressStyleModel",
     "state": {
      "_model_module": "@jupyter-widgets/controls",
      "_model_module_version": "1.5.0",
      "_model_name": "ProgressStyleModel",
      "_view_count": null,
      "_view_module": "@jupyter-widgets/base",
      "_view_module_version": "1.2.0",
      "_view_name": "StyleView",
      "bar_color": null,
      "description_width": ""
     }
    },
    "4c8a46ae8c31444c88aece0e427da0fd": {
     "model_module": "@jupyter-widgets/controls",
     "model_module_version": "1.5.0",
     "model_name": "HBoxModel",
     "state": {
      "_dom_classes": [],
      "_model_module": "@jupyter-widgets/controls",
      "_model_module_version": "1.5.0",
      "_model_name": "HBoxModel",
      "_view_count": null,
      "_view_module": "@jupyter-widgets/controls",
      "_view_module_version": "1.5.0",
      "_view_name": "HBoxView",
      "box_style": "",
      "children": [
       "IPY_MODEL_7eca09e8de3f45759495b5f5037928bd",
       "IPY_MODEL_7ead7ec8c5d44ce7b358643c525ab9ad",
       "IPY_MODEL_fbfa0f738b0f4947bb48e3e4933a4acb"
      ],
      "layout": "IPY_MODEL_10143d6140054eef95e2687b1c702748"
     }
    },
    "50ced7d9f9c14bae824aeabf321146de": {
     "model_module": "@jupyter-widgets/base",
     "model_module_version": "1.2.0",
     "model_name": "LayoutModel",
     "state": {
      "_model_module": "@jupyter-widgets/base",
      "_model_module_version": "1.2.0",
      "_model_name": "LayoutModel",
      "_view_count": null,
      "_view_module": "@jupyter-widgets/base",
      "_view_module_version": "1.2.0",
      "_view_name": "LayoutView",
      "align_content": null,
      "align_items": null,
      "align_self": null,
      "border": null,
      "bottom": null,
      "display": null,
      "flex": null,
      "flex_flow": null,
      "grid_area": null,
      "grid_auto_columns": null,
      "grid_auto_flow": null,
      "grid_auto_rows": null,
      "grid_column": null,
      "grid_gap": null,
      "grid_row": null,
      "grid_template_areas": null,
      "grid_template_columns": null,
      "grid_template_rows": null,
      "height": null,
      "justify_content": null,
      "justify_items": null,
      "left": null,
      "margin": null,
      "max_height": null,
      "max_width": null,
      "min_height": null,
      "min_width": null,
      "object_fit": null,
      "object_position": null,
      "order": null,
      "overflow": null,
      "overflow_x": null,
      "overflow_y": null,
      "padding": null,
      "right": null,
      "top": null,
      "visibility": null,
      "width": null
     }
    },
    "54ab6b1e057f47889c629290f3f4b9b3": {
     "model_module": "@jupyter-widgets/controls",
     "model_module_version": "1.5.0",
     "model_name": "HBoxModel",
     "state": {
      "_dom_classes": [],
      "_model_module": "@jupyter-widgets/controls",
      "_model_module_version": "1.5.0",
      "_model_name": "HBoxModel",
      "_view_count": null,
      "_view_module": "@jupyter-widgets/controls",
      "_view_module_version": "1.5.0",
      "_view_name": "HBoxView",
      "box_style": "",
      "children": [
       "IPY_MODEL_418f63c4b71946f8931e29052fd033d4",
       "IPY_MODEL_b92abef67d1e419d9b65d35d4f380d19",
       "IPY_MODEL_0cdcd661df524b56963d6abf12a12adf"
      ],
      "layout": "IPY_MODEL_f61f2d0f24f244b693653bccf5fc9256"
     }
    },
    "5529878cdfd3451aa0cf77e6d9fe53d7": {
     "model_module": "@jupyter-widgets/controls",
     "model_module_version": "1.5.0",
     "model_name": "DescriptionStyleModel",
     "state": {
      "_model_module": "@jupyter-widgets/controls",
      "_model_module_version": "1.5.0",
      "_model_name": "DescriptionStyleModel",
      "_view_count": null,
      "_view_module": "@jupyter-widgets/base",
      "_view_module_version": "1.2.0",
      "_view_name": "StyleView",
      "description_width": ""
     }
    },
    "556a8e65ec8a434a8030fb5ca33ee758": {
     "model_module": "@jupyter-widgets/controls",
     "model_module_version": "1.5.0",
     "model_name": "HBoxModel",
     "state": {
      "_dom_classes": [],
      "_model_module": "@jupyter-widgets/controls",
      "_model_module_version": "1.5.0",
      "_model_name": "HBoxModel",
      "_view_count": null,
      "_view_module": "@jupyter-widgets/controls",
      "_view_module_version": "1.5.0",
      "_view_name": "HBoxView",
      "box_style": "",
      "children": [
       "IPY_MODEL_3b0d00a7a99b4ce19d68c8a093dbc7a3",
       "IPY_MODEL_6e6dbb2588a54095843d2196abd0084c",
       "IPY_MODEL_8da2c9d501c949718d51ca94cce2d76c"
      ],
      "layout": "IPY_MODEL_16a15c49b8e14f13ac2cd7989fc4a11a"
     }
    },
    "56ba98718f304befa7b62ea6845d2b8f": {
     "model_module": "@jupyter-widgets/controls",
     "model_module_version": "1.5.0",
     "model_name": "ProgressStyleModel",
     "state": {
      "_model_module": "@jupyter-widgets/controls",
      "_model_module_version": "1.5.0",
      "_model_name": "ProgressStyleModel",
      "_view_count": null,
      "_view_module": "@jupyter-widgets/base",
      "_view_module_version": "1.2.0",
      "_view_name": "StyleView",
      "bar_color": null,
      "description_width": ""
     }
    },
    "64af58216aaf442da349a258ec957c60": {
     "model_module": "@jupyter-widgets/base",
     "model_module_version": "1.2.0",
     "model_name": "LayoutModel",
     "state": {
      "_model_module": "@jupyter-widgets/base",
      "_model_module_version": "1.2.0",
      "_model_name": "LayoutModel",
      "_view_count": null,
      "_view_module": "@jupyter-widgets/base",
      "_view_module_version": "1.2.0",
      "_view_name": "LayoutView",
      "align_content": null,
      "align_items": null,
      "align_self": null,
      "border": null,
      "bottom": null,
      "display": null,
      "flex": null,
      "flex_flow": null,
      "grid_area": null,
      "grid_auto_columns": null,
      "grid_auto_flow": null,
      "grid_auto_rows": null,
      "grid_column": null,
      "grid_gap": null,
      "grid_row": null,
      "grid_template_areas": null,
      "grid_template_columns": null,
      "grid_template_rows": null,
      "height": null,
      "justify_content": null,
      "justify_items": null,
      "left": null,
      "margin": null,
      "max_height": null,
      "max_width": null,
      "min_height": null,
      "min_width": null,
      "object_fit": null,
      "object_position": null,
      "order": null,
      "overflow": null,
      "overflow_x": null,
      "overflow_y": null,
      "padding": null,
      "right": null,
      "top": null,
      "visibility": null,
      "width": null
     }
    },
    "6a504e1c06b64fdbbf5395527e39f66e": {
     "model_module": "@jupyter-widgets/controls",
     "model_module_version": "1.5.0",
     "model_name": "HTMLModel",
     "state": {
      "_dom_classes": [],
      "_model_module": "@jupyter-widgets/controls",
      "_model_module_version": "1.5.0",
      "_model_name": "HTMLModel",
      "_view_count": null,
      "_view_module": "@jupyter-widgets/controls",
      "_view_module_version": "1.5.0",
      "_view_name": "HTMLView",
      "description": "",
      "description_tooltip": null,
      "layout": "IPY_MODEL_089f14de338b4cd98bd5ee6a0405aed1",
      "placeholder": "​",
      "style": "IPY_MODEL_d71dde0375f04863a7df33a9e1e624fd",
      "value": " 727/727 [00:00&lt;00:00, 14.2kB/s]"
     }
    },
    "6acc493349c14b0c85e802cfa04ee391": {
     "model_module": "@jupyter-widgets/controls",
     "model_module_version": "1.5.0",
     "model_name": "HTMLModel",
     "state": {
      "_dom_classes": [],
      "_model_module": "@jupyter-widgets/controls",
      "_model_module_version": "1.5.0",
      "_model_name": "HTMLModel",
      "_view_count": null,
      "_view_module": "@jupyter-widgets/controls",
      "_view_module_version": "1.5.0",
      "_view_name": "HTMLView",
      "description": "",
      "description_tooltip": null,
      "layout": "IPY_MODEL_e8698dd43aa748f8b38cff6ecb1094e0",
      "placeholder": "​",
      "style": "IPY_MODEL_a45dc251d367445bbccb0735ef1a42fc",
      "value": " 411/411 [00:00&lt;00:00, 10.4kB/s]"
     }
    },
    "6e6dbb2588a54095843d2196abd0084c": {
     "model_module": "@jupyter-widgets/controls",
     "model_module_version": "1.5.0",
     "model_name": "FloatProgressModel",
     "state": {
      "_dom_classes": [],
      "_model_module": "@jupyter-widgets/controls",
      "_model_module_version": "1.5.0",
      "_model_name": "FloatProgressModel",
      "_view_count": null,
      "_view_module": "@jupyter-widgets/controls",
      "_view_module_version": "1.5.0",
      "_view_name": "ProgressView",
      "bar_style": "success",
      "description": "",
      "description_tooltip": null,
      "layout": "IPY_MODEL_1337bc4c15b3456c8c2e1832b728b29c",
      "max": 913,
      "min": 0,
      "orientation": "horizontal",
      "style": "IPY_MODEL_f94fca25c6514ca5a99092d12b2ae8b7",
      "value": 913
     }
    },
    "7141476b1f1b408e89a218f2d3e27ef0": {
     "model_module": "@jupyter-widgets/base",
     "model_module_version": "1.2.0",
     "model_name": "LayoutModel",
     "state": {
      "_model_module": "@jupyter-widgets/base",
      "_model_module_version": "1.2.0",
      "_model_name": "LayoutModel",
      "_view_count": null,
      "_view_module": "@jupyter-widgets/base",
      "_view_module_version": "1.2.0",
      "_view_name": "LayoutView",
      "align_content": null,
      "align_items": null,
      "align_self": null,
      "border": null,
      "bottom": null,
      "display": null,
      "flex": null,
      "flex_flow": null,
      "grid_area": null,
      "grid_auto_columns": null,
      "grid_auto_flow": null,
      "grid_auto_rows": null,
      "grid_column": null,
      "grid_gap": null,
      "grid_row": null,
      "grid_template_areas": null,
      "grid_template_columns": null,
      "grid_template_rows": null,
      "height": null,
      "justify_content": null,
      "justify_items": null,
      "left": null,
      "margin": null,
      "max_height": null,
      "max_width": null,
      "min_height": null,
      "min_width": null,
      "object_fit": null,
      "object_position": null,
      "order": null,
      "overflow": null,
      "overflow_x": null,
      "overflow_y": null,
      "padding": null,
      "right": null,
      "top": null,
      "visibility": null,
      "width": null
     }
    },
    "743bdc236db443c181e6c4b7d9324f79": {
     "model_module": "@jupyter-widgets/base",
     "model_module_version": "1.2.0",
     "model_name": "LayoutModel",
     "state": {
      "_model_module": "@jupyter-widgets/base",
      "_model_module_version": "1.2.0",
      "_model_name": "LayoutModel",
      "_view_count": null,
      "_view_module": "@jupyter-widgets/base",
      "_view_module_version": "1.2.0",
      "_view_name": "LayoutView",
      "align_content": null,
      "align_items": null,
      "align_self": null,
      "border": null,
      "bottom": null,
      "display": null,
      "flex": null,
      "flex_flow": null,
      "grid_area": null,
      "grid_auto_columns": null,
      "grid_auto_flow": null,
      "grid_auto_rows": null,
      "grid_column": null,
      "grid_gap": null,
      "grid_row": null,
      "grid_template_areas": null,
      "grid_template_columns": null,
      "grid_template_rows": null,
      "height": null,
      "justify_content": null,
      "justify_items": null,
      "left": null,
      "margin": null,
      "max_height": null,
      "max_width": null,
      "min_height": null,
      "min_width": null,
      "object_fit": null,
      "object_position": null,
      "order": null,
      "overflow": null,
      "overflow_x": null,
      "overflow_y": null,
      "padding": null,
      "right": null,
      "top": null,
      "visibility": null,
      "width": null
     }
    },
    "75cba7280b3e41e6b70b26aa6a0e75c5": {
     "model_module": "@jupyter-widgets/base",
     "model_module_version": "1.2.0",
     "model_name": "LayoutModel",
     "state": {
      "_model_module": "@jupyter-widgets/base",
      "_model_module_version": "1.2.0",
      "_model_name": "LayoutModel",
      "_view_count": null,
      "_view_module": "@jupyter-widgets/base",
      "_view_module_version": "1.2.0",
      "_view_name": "LayoutView",
      "align_content": null,
      "align_items": null,
      "align_self": null,
      "border": null,
      "bottom": null,
      "display": null,
      "flex": null,
      "flex_flow": null,
      "grid_area": null,
      "grid_auto_columns": null,
      "grid_auto_flow": null,
      "grid_auto_rows": null,
      "grid_column": null,
      "grid_gap": null,
      "grid_row": null,
      "grid_template_areas": null,
      "grid_template_columns": null,
      "grid_template_rows": null,
      "height": null,
      "justify_content": null,
      "justify_items": null,
      "left": null,
      "margin": null,
      "max_height": null,
      "max_width": null,
      "min_height": null,
      "min_width": null,
      "object_fit": null,
      "object_position": null,
      "order": null,
      "overflow": null,
      "overflow_x": null,
      "overflow_y": null,
      "padding": null,
      "right": null,
      "top": null,
      "visibility": null,
      "width": null
     }
    },
    "77426c8bbe5c4ae099c5a0be3f05b196": {
     "model_module": "@jupyter-widgets/base",
     "model_module_version": "1.2.0",
     "model_name": "LayoutModel",
     "state": {
      "_model_module": "@jupyter-widgets/base",
      "_model_module_version": "1.2.0",
      "_model_name": "LayoutModel",
      "_view_count": null,
      "_view_module": "@jupyter-widgets/base",
      "_view_module_version": "1.2.0",
      "_view_name": "LayoutView",
      "align_content": null,
      "align_items": null,
      "align_self": null,
      "border": null,
      "bottom": null,
      "display": null,
      "flex": null,
      "flex_flow": null,
      "grid_area": null,
      "grid_auto_columns": null,
      "grid_auto_flow": null,
      "grid_auto_rows": null,
      "grid_column": null,
      "grid_gap": null,
      "grid_row": null,
      "grid_template_areas": null,
      "grid_template_columns": null,
      "grid_template_rows": null,
      "height": null,
      "justify_content": null,
      "justify_items": null,
      "left": null,
      "margin": null,
      "max_height": null,
      "max_width": null,
      "min_height": null,
      "min_width": null,
      "object_fit": null,
      "object_position": null,
      "order": null,
      "overflow": null,
      "overflow_x": null,
      "overflow_y": null,
      "padding": null,
      "right": null,
      "top": null,
      "visibility": null,
      "width": null
     }
    },
    "78dab4f0f0e74f07a7bc8b42a4fedfa2": {
     "model_module": "@jupyter-widgets/base",
     "model_module_version": "1.2.0",
     "model_name": "LayoutModel",
     "state": {
      "_model_module": "@jupyter-widgets/base",
      "_model_module_version": "1.2.0",
      "_model_name": "LayoutModel",
      "_view_count": null,
      "_view_module": "@jupyter-widgets/base",
      "_view_module_version": "1.2.0",
      "_view_name": "LayoutView",
      "align_content": null,
      "align_items": null,
      "align_self": null,
      "border": null,
      "bottom": null,
      "display": null,
      "flex": null,
      "flex_flow": null,
      "grid_area": null,
      "grid_auto_columns": null,
      "grid_auto_flow": null,
      "grid_auto_rows": null,
      "grid_column": null,
      "grid_gap": null,
      "grid_row": null,
      "grid_template_areas": null,
      "grid_template_columns": null,
      "grid_template_rows": null,
      "height": null,
      "justify_content": null,
      "justify_items": null,
      "left": null,
      "margin": null,
      "max_height": null,
      "max_width": null,
      "min_height": null,
      "min_width": null,
      "object_fit": null,
      "object_position": null,
      "order": null,
      "overflow": null,
      "overflow_x": null,
      "overflow_y": null,
      "padding": null,
      "right": null,
      "top": null,
      "visibility": null,
      "width": null
     }
    },
    "7a77f1d645944f238b94a46ef514af11": {
     "model_module": "@jupyter-widgets/controls",
     "model_module_version": "1.5.0",
     "model_name": "DescriptionStyleModel",
     "state": {
      "_model_module": "@jupyter-widgets/controls",
      "_model_module_version": "1.5.0",
      "_model_name": "DescriptionStyleModel",
      "_view_count": null,
      "_view_module": "@jupyter-widgets/base",
      "_view_module_version": "1.2.0",
      "_view_name": "StyleView",
      "description_width": ""
     }
    },
    "7afefc9aa9c44d2c95803157ae967e18": {
     "model_module": "@jupyter-widgets/base",
     "model_module_version": "1.2.0",
     "model_name": "LayoutModel",
     "state": {
      "_model_module": "@jupyter-widgets/base",
      "_model_module_version": "1.2.0",
      "_model_name": "LayoutModel",
      "_view_count": null,
      "_view_module": "@jupyter-widgets/base",
      "_view_module_version": "1.2.0",
      "_view_name": "LayoutView",
      "align_content": null,
      "align_items": null,
      "align_self": null,
      "border": null,
      "bottom": null,
      "display": null,
      "flex": null,
      "flex_flow": null,
      "grid_area": null,
      "grid_auto_columns": null,
      "grid_auto_flow": null,
      "grid_auto_rows": null,
      "grid_column": null,
      "grid_gap": null,
      "grid_row": null,
      "grid_template_areas": null,
      "grid_template_columns": null,
      "grid_template_rows": null,
      "height": null,
      "justify_content": null,
      "justify_items": null,
      "left": null,
      "margin": null,
      "max_height": null,
      "max_width": null,
      "min_height": null,
      "min_width": null,
      "object_fit": null,
      "object_position": null,
      "order": null,
      "overflow": null,
      "overflow_x": null,
      "overflow_y": null,
      "padding": null,
      "right": null,
      "top": null,
      "visibility": null,
      "width": null
     }
    },
    "7ead7ec8c5d44ce7b358643c525ab9ad": {
     "model_module": "@jupyter-widgets/controls",
     "model_module_version": "1.5.0",
     "model_name": "FloatProgressModel",
     "state": {
      "_dom_classes": [],
      "_model_module": "@jupyter-widgets/controls",
      "_model_module_version": "1.5.0",
      "_model_name": "FloatProgressModel",
      "_view_count": null,
      "_view_module": "@jupyter-widgets/controls",
      "_view_module_version": "1.5.0",
      "_view_name": "ProgressView",
      "bar_style": "success",
      "description": "",
      "description_tooltip": null,
      "layout": "IPY_MODEL_78dab4f0f0e74f07a7bc8b42a4fedfa2",
      "max": 132,
      "min": 0,
      "orientation": "horizontal",
      "style": "IPY_MODEL_cda98b039be04b948ad0f931925974bd",
      "value": 132
     }
    },
    "7eca09e8de3f45759495b5f5037928bd": {
     "model_module": "@jupyter-widgets/controls",
     "model_module_version": "1.5.0",
     "model_name": "HTMLModel",
     "state": {
      "_dom_classes": [],
      "_model_module": "@jupyter-widgets/controls",
      "_model_module_version": "1.5.0",
      "_model_name": "HTMLModel",
      "_view_count": null,
      "_view_module": "@jupyter-widgets/controls",
      "_view_module_version": "1.5.0",
      "_view_name": "HTMLView",
      "description": "",
      "description_tooltip": null,
      "layout": "IPY_MODEL_fd95caf63be24f8b90fc10cf34396389",
      "placeholder": "​",
      "style": "IPY_MODEL_7a77f1d645944f238b94a46ef514af11",
      "value": "Downloading generation_config.json: 100%"
     }
    },
    "80f3b0c7f7834383803fc6eb95dab40b": {
     "model_module": "@jupyter-widgets/base",
     "model_module_version": "1.2.0",
     "model_name": "LayoutModel",
     "state": {
      "_model_module": "@jupyter-widgets/base",
      "_model_module_version": "1.2.0",
      "_model_name": "LayoutModel",
      "_view_count": null,
      "_view_module": "@jupyter-widgets/base",
      "_view_module_version": "1.2.0",
      "_view_name": "LayoutView",
      "align_content": null,
      "align_items": null,
      "align_self": null,
      "border": null,
      "bottom": null,
      "display": null,
      "flex": null,
      "flex_flow": null,
      "grid_area": null,
      "grid_auto_columns": null,
      "grid_auto_flow": null,
      "grid_auto_rows": null,
      "grid_column": null,
      "grid_gap": null,
      "grid_row": null,
      "grid_template_areas": null,
      "grid_template_columns": null,
      "grid_template_rows": null,
      "height": null,
      "justify_content": null,
      "justify_items": null,
      "left": null,
      "margin": null,
      "max_height": null,
      "max_width": null,
      "min_height": null,
      "min_width": null,
      "object_fit": null,
      "object_position": null,
      "order": null,
      "overflow": null,
      "overflow_x": null,
      "overflow_y": null,
      "padding": null,
      "right": null,
      "top": null,
      "visibility": null,
      "width": null
     }
    },
    "8da2c9d501c949718d51ca94cce2d76c": {
     "model_module": "@jupyter-widgets/controls",
     "model_module_version": "1.5.0",
     "model_name": "HTMLModel",
     "state": {
      "_dom_classes": [],
      "_model_module": "@jupyter-widgets/controls",
      "_model_module_version": "1.5.0",
      "_model_name": "HTMLModel",
      "_view_count": null,
      "_view_module": "@jupyter-widgets/controls",
      "_view_module_version": "1.5.0",
      "_view_name": "HTMLView",
      "description": "",
      "description_tooltip": null,
      "layout": "IPY_MODEL_77426c8bbe5c4ae099c5a0be3f05b196",
      "placeholder": "​",
      "style": "IPY_MODEL_9689f22b58e44852bd6a60c7f0344aed",
      "value": " 913/913 [00:00&lt;00:00, 36.5kB/s]"
     }
    },
    "933b8bcb4b8949919f02491fe04ecb94": {
     "model_module": "@jupyter-widgets/controls",
     "model_module_version": "1.5.0",
     "model_name": "DescriptionStyleModel",
     "state": {
      "_model_module": "@jupyter-widgets/controls",
      "_model_module_version": "1.5.0",
      "_model_name": "DescriptionStyleModel",
      "_view_count": null,
      "_view_module": "@jupyter-widgets/base",
      "_view_module_version": "1.2.0",
      "_view_name": "StyleView",
      "description_width": ""
     }
    },
    "9689f22b58e44852bd6a60c7f0344aed": {
     "model_module": "@jupyter-widgets/controls",
     "model_module_version": "1.5.0",
     "model_name": "DescriptionStyleModel",
     "state": {
      "_model_module": "@jupyter-widgets/controls",
      "_model_module_version": "1.5.0",
      "_model_name": "DescriptionStyleModel",
      "_view_count": null,
      "_view_module": "@jupyter-widgets/base",
      "_view_module_version": "1.2.0",
      "_view_name": "StyleView",
      "description_width": ""
     }
    },
    "9d6b61b9c85246f3970ca2fb6f116c10": {
     "model_module": "@jupyter-widgets/base",
     "model_module_version": "1.2.0",
     "model_name": "LayoutModel",
     "state": {
      "_model_module": "@jupyter-widgets/base",
      "_model_module_version": "1.2.0",
      "_model_name": "LayoutModel",
      "_view_count": null,
      "_view_module": "@jupyter-widgets/base",
      "_view_module_version": "1.2.0",
      "_view_name": "LayoutView",
      "align_content": null,
      "align_items": null,
      "align_self": null,
      "border": null,
      "bottom": null,
      "display": null,
      "flex": null,
      "flex_flow": null,
      "grid_area": null,
      "grid_auto_columns": null,
      "grid_auto_flow": null,
      "grid_auto_rows": null,
      "grid_column": null,
      "grid_gap": null,
      "grid_row": null,
      "grid_template_areas": null,
      "grid_template_columns": null,
      "grid_template_rows": null,
      "height": null,
      "justify_content": null,
      "justify_items": null,
      "left": null,
      "margin": null,
      "max_height": null,
      "max_width": null,
      "min_height": null,
      "min_width": null,
      "object_fit": null,
      "object_position": null,
      "order": null,
      "overflow": null,
      "overflow_x": null,
      "overflow_y": null,
      "padding": null,
      "right": null,
      "top": null,
      "visibility": null,
      "width": null
     }
    },
    "a0d825785a3941d08b9614ce1f54532d": {
     "model_module": "@jupyter-widgets/controls",
     "model_module_version": "1.5.0",
     "model_name": "HBoxModel",
     "state": {
      "_dom_classes": [],
      "_model_module": "@jupyter-widgets/controls",
      "_model_module_version": "1.5.0",
      "_model_name": "HBoxModel",
      "_view_count": null,
      "_view_module": "@jupyter-widgets/controls",
      "_view_module_version": "1.5.0",
      "_view_name": "HBoxView",
      "box_style": "",
      "children": [
       "IPY_MODEL_adaeff1406bd49dfab5e6f7dc09dd784",
       "IPY_MODEL_db0a7d45057c4b8da97eb7d6f83940ee",
       "IPY_MODEL_f79ea0e31cdb4835ae9baf9c2e51cde3"
      ],
      "layout": "IPY_MODEL_743bdc236db443c181e6c4b7d9324f79"
     }
    },
    "a3af8c69bf474f66adf8c9248ea6193e": {
     "model_module": "@jupyter-widgets/base",
     "model_module_version": "1.2.0",
     "model_name": "LayoutModel",
     "state": {
      "_model_module": "@jupyter-widgets/base",
      "_model_module_version": "1.2.0",
      "_model_name": "LayoutModel",
      "_view_count": null,
      "_view_module": "@jupyter-widgets/base",
      "_view_module_version": "1.2.0",
      "_view_name": "LayoutView",
      "align_content": null,
      "align_items": null,
      "align_self": null,
      "border": null,
      "bottom": null,
      "display": null,
      "flex": null,
      "flex_flow": null,
      "grid_area": null,
      "grid_auto_columns": null,
      "grid_auto_flow": null,
      "grid_auto_rows": null,
      "grid_column": null,
      "grid_gap": null,
      "grid_row": null,
      "grid_template_areas": null,
      "grid_template_columns": null,
      "grid_template_rows": null,
      "height": null,
      "justify_content": null,
      "justify_items": null,
      "left": null,
      "margin": null,
      "max_height": null,
      "max_width": null,
      "min_height": null,
      "min_width": null,
      "object_fit": null,
      "object_position": null,
      "order": null,
      "overflow": null,
      "overflow_x": null,
      "overflow_y": null,
      "padding": null,
      "right": null,
      "top": null,
      "visibility": null,
      "width": null
     }
    },
    "a45dc251d367445bbccb0735ef1a42fc": {
     "model_module": "@jupyter-widgets/controls",
     "model_module_version": "1.5.0",
     "model_name": "DescriptionStyleModel",
     "state": {
      "_model_module": "@jupyter-widgets/controls",
      "_model_module_version": "1.5.0",
      "_model_name": "DescriptionStyleModel",
      "_view_count": null,
      "_view_module": "@jupyter-widgets/base",
      "_view_module_version": "1.2.0",
      "_view_name": "StyleView",
      "description_width": ""
     }
    },
    "ad7f38df3c6f477d8b16d52cbd495bd2": {
     "model_module": "@jupyter-widgets/controls",
     "model_module_version": "1.5.0",
     "model_name": "HTMLModel",
     "state": {
      "_dom_classes": [],
      "_model_module": "@jupyter-widgets/controls",
      "_model_module_version": "1.5.0",
      "_model_name": "HTMLModel",
      "_view_count": null,
      "_view_module": "@jupyter-widgets/controls",
      "_view_module_version": "1.5.0",
      "_view_name": "HTMLView",
      "description": "",
      "description_tooltip": null,
      "layout": "IPY_MODEL_a3af8c69bf474f66adf8c9248ea6193e",
      "placeholder": "​",
      "style": "IPY_MODEL_5529878cdfd3451aa0cf77e6d9fe53d7",
      "value": " 500k/500k [00:00&lt;00:00, 7.40MB/s]"
     }
    },
    "adaeff1406bd49dfab5e6f7dc09dd784": {
     "model_module": "@jupyter-widgets/controls",
     "model_module_version": "1.5.0",
     "model_name": "HTMLModel",
     "state": {
      "_dom_classes": [],
      "_model_module": "@jupyter-widgets/controls",
      "_model_module_version": "1.5.0",
      "_model_name": "HTMLModel",
      "_view_count": null,
      "_view_module": "@jupyter-widgets/controls",
      "_view_module_version": "1.5.0",
      "_view_name": "HTMLView",
      "description": "",
      "description_tooltip": null,
      "layout": "IPY_MODEL_b7abd439b51e4852ab8a2c480f2519f4",
      "placeholder": "​",
      "style": "IPY_MODEL_154d1237cbc948c8a106353802435d1f",
      "value": "Downloading tokenizer.json: 100%"
     }
    },
    "b7abd439b51e4852ab8a2c480f2519f4": {
     "model_module": "@jupyter-widgets/base",
     "model_module_version": "1.2.0",
     "model_name": "LayoutModel",
     "state": {
      "_model_module": "@jupyter-widgets/base",
      "_model_module_version": "1.2.0",
      "_model_name": "LayoutModel",
      "_view_count": null,
      "_view_module": "@jupyter-widgets/base",
      "_view_module_version": "1.2.0",
      "_view_name": "LayoutView",
      "align_content": null,
      "align_items": null,
      "align_self": null,
      "border": null,
      "bottom": null,
      "display": null,
      "flex": null,
      "flex_flow": null,
      "grid_area": null,
      "grid_auto_columns": null,
      "grid_auto_flow": null,
      "grid_auto_rows": null,
      "grid_column": null,
      "grid_gap": null,
      "grid_row": null,
      "grid_template_areas": null,
      "grid_template_columns": null,
      "grid_template_rows": null,
      "height": null,
      "justify_content": null,
      "justify_items": null,
      "left": null,
      "margin": null,
      "max_height": null,
      "max_width": null,
      "min_height": null,
      "min_width": null,
      "object_fit": null,
      "object_position": null,
      "order": null,
      "overflow": null,
      "overflow_x": null,
      "overflow_y": null,
      "padding": null,
      "right": null,
      "top": null,
      "visibility": null,
      "width": null
     }
    },
    "b92abef67d1e419d9b65d35d4f380d19": {
     "model_module": "@jupyter-widgets/controls",
     "model_module_version": "1.5.0",
     "model_name": "FloatProgressModel",
     "state": {
      "_dom_classes": [],
      "_model_module": "@jupyter-widgets/controls",
      "_model_module_version": "1.5.0",
      "_model_name": "FloatProgressModel",
      "_view_count": null,
      "_view_module": "@jupyter-widgets/controls",
      "_view_module_version": "1.5.0",
      "_view_name": "ProgressView",
      "bar_style": "success",
      "description": "",
      "description_tooltip": null,
      "layout": "IPY_MODEL_fa68ab5ec39746009c26bc9c70f69f4a",
      "max": 7259449480,
      "min": 0,
      "orientation": "horizontal",
      "style": "IPY_MODEL_56ba98718f304befa7b62ea6845d2b8f",
      "value": 7259449480
     }
    },
    "bbf3d0a50e684399a2cb39bd8c8c191a": {
     "model_module": "@jupyter-widgets/controls",
     "model_module_version": "1.5.0",
     "model_name": "HTMLModel",
     "state": {
      "_dom_classes": [],
      "_model_module": "@jupyter-widgets/controls",
      "_model_module_version": "1.5.0",
      "_model_name": "HTMLModel",
      "_view_count": null,
      "_view_module": "@jupyter-widgets/controls",
      "_view_module_version": "1.5.0",
      "_view_name": "HTMLView",
      "description": "",
      "description_tooltip": null,
      "layout": "IPY_MODEL_c6c3b64d34bd492ea763b9db09abad8c",
      "placeholder": "​",
      "style": "IPY_MODEL_def8080b1e874c13867236379032162b",
      "value": "Downloading (…)cial_tokens_map.json: 100%"
     }
    },
    "c00e389c27cf4f2dac0a59ba78abbe0f": {
     "model_module": "@jupyter-widgets/controls",
     "model_module_version": "1.5.0",
     "model_name": "HBoxModel",
     "state": {
      "_dom_classes": [],
      "_model_module": "@jupyter-widgets/controls",
      "_model_module_version": "1.5.0",
      "_model_name": "HBoxModel",
      "_view_count": null,
      "_view_module": "@jupyter-widgets/controls",
      "_view_module_version": "1.5.0",
      "_view_name": "HBoxView",
      "box_style": "",
      "children": [
       "IPY_MODEL_2d4eb4162c2d474d9debc8b01c8f4e3c",
       "IPY_MODEL_226ae6e549a7479abf29b02e174112b9",
       "IPY_MODEL_ad7f38df3c6f477d8b16d52cbd495bd2"
      ],
      "layout": "IPY_MODEL_04eea1cc66bc413b8a09bfb876faffb8"
     }
    },
    "c585575a29ef480ea294affd17bf609c": {
     "model_module": "@jupyter-widgets/controls",
     "model_module_version": "1.5.0",
     "model_name": "ProgressStyleModel",
     "state": {
      "_model_module": "@jupyter-widgets/controls",
      "_model_module_version": "1.5.0",
      "_model_name": "ProgressStyleModel",
      "_view_count": null,
      "_view_module": "@jupyter-widgets/base",
      "_view_module_version": "1.2.0",
      "_view_name": "StyleView",
      "bar_color": null,
      "description_width": ""
     }
    },
    "c67fbac14b4f49e4850d61de66a4580a": {
     "model_module": "@jupyter-widgets/base",
     "model_module_version": "1.2.0",
     "model_name": "LayoutModel",
     "state": {
      "_model_module": "@jupyter-widgets/base",
      "_model_module_version": "1.2.0",
      "_model_name": "LayoutModel",
      "_view_count": null,
      "_view_module": "@jupyter-widgets/base",
      "_view_module_version": "1.2.0",
      "_view_name": "LayoutView",
      "align_content": null,
      "align_items": null,
      "align_self": null,
      "border": null,
      "bottom": null,
      "display": null,
      "flex": null,
      "flex_flow": null,
      "grid_area": null,
      "grid_auto_columns": null,
      "grid_auto_flow": null,
      "grid_auto_rows": null,
      "grid_column": null,
      "grid_gap": null,
      "grid_row": null,
      "grid_template_areas": null,
      "grid_template_columns": null,
      "grid_template_rows": null,
      "height": null,
      "justify_content": null,
      "justify_items": null,
      "left": null,
      "margin": null,
      "max_height": null,
      "max_width": null,
      "min_height": null,
      "min_width": null,
      "object_fit": null,
      "object_position": null,
      "order": null,
      "overflow": null,
      "overflow_x": null,
      "overflow_y": null,
      "padding": null,
      "right": null,
      "top": null,
      "visibility": null,
      "width": null
     }
    },
    "c6c3b64d34bd492ea763b9db09abad8c": {
     "model_module": "@jupyter-widgets/base",
     "model_module_version": "1.2.0",
     "model_name": "LayoutModel",
     "state": {
      "_model_module": "@jupyter-widgets/base",
      "_model_module_version": "1.2.0",
      "_model_name": "LayoutModel",
      "_view_count": null,
      "_view_module": "@jupyter-widgets/base",
      "_view_module_version": "1.2.0",
      "_view_name": "LayoutView",
      "align_content": null,
      "align_items": null,
      "align_self": null,
      "border": null,
      "bottom": null,
      "display": null,
      "flex": null,
      "flex_flow": null,
      "grid_area": null,
      "grid_auto_columns": null,
      "grid_auto_flow": null,
      "grid_auto_rows": null,
      "grid_column": null,
      "grid_gap": null,
      "grid_row": null,
      "grid_template_areas": null,
      "grid_template_columns": null,
      "grid_template_rows": null,
      "height": null,
      "justify_content": null,
      "justify_items": null,
      "left": null,
      "margin": null,
      "max_height": null,
      "max_width": null,
      "min_height": null,
      "min_width": null,
      "object_fit": null,
      "object_position": null,
      "order": null,
      "overflow": null,
      "overflow_x": null,
      "overflow_y": null,
      "padding": null,
      "right": null,
      "top": null,
      "visibility": null,
      "width": null
     }
    },
    "c88e8760f0fc46b6a3d6ad36a9279582": {
     "model_module": "@jupyter-widgets/controls",
     "model_module_version": "1.5.0",
     "model_name": "FloatProgressModel",
     "state": {
      "_dom_classes": [],
      "_model_module": "@jupyter-widgets/controls",
      "_model_module_version": "1.5.0",
      "_model_name": "FloatProgressModel",
      "_view_count": null,
      "_view_module": "@jupyter-widgets/controls",
      "_view_module_version": "1.5.0",
      "_view_name": "ProgressView",
      "bar_style": "success",
      "description": "",
      "description_tooltip": null,
      "layout": "IPY_MODEL_42b37f9daaef4ee0a74094f75f70160f",
      "max": 411,
      "min": 0,
      "orientation": "horizontal",
      "style": "IPY_MODEL_4b1a3d6262d649669c42c53628cdc16a",
      "value": 411
     }
    },
    "cda98b039be04b948ad0f931925974bd": {
     "model_module": "@jupyter-widgets/controls",
     "model_module_version": "1.5.0",
     "model_name": "ProgressStyleModel",
     "state": {
      "_model_module": "@jupyter-widgets/controls",
      "_model_module_version": "1.5.0",
      "_model_name": "ProgressStyleModel",
      "_view_count": null,
      "_view_module": "@jupyter-widgets/base",
      "_view_module_version": "1.2.0",
      "_view_name": "StyleView",
      "bar_color": null,
      "description_width": ""
     }
    },
    "d235eebc98a54b67b9cc9f179db0bfed": {
     "model_module": "@jupyter-widgets/controls",
     "model_module_version": "1.5.0",
     "model_name": "DescriptionStyleModel",
     "state": {
      "_model_module": "@jupyter-widgets/controls",
      "_model_module_version": "1.5.0",
      "_model_name": "DescriptionStyleModel",
      "_view_count": null,
      "_view_module": "@jupyter-widgets/base",
      "_view_module_version": "1.2.0",
      "_view_name": "StyleView",
      "description_width": ""
     }
    },
    "d71dde0375f04863a7df33a9e1e624fd": {
     "model_module": "@jupyter-widgets/controls",
     "model_module_version": "1.5.0",
     "model_name": "DescriptionStyleModel",
     "state": {
      "_model_module": "@jupyter-widgets/controls",
      "_model_module_version": "1.5.0",
      "_model_name": "DescriptionStyleModel",
      "_view_count": null,
      "_view_module": "@jupyter-widgets/base",
      "_view_module_version": "1.2.0",
      "_view_name": "StyleView",
      "description_width": ""
     }
    },
    "d7a8a4c22fe9419fbd7373bbd75e5ca5": {
     "model_module": "@jupyter-widgets/controls",
     "model_module_version": "1.5.0",
     "model_name": "HBoxModel",
     "state": {
      "_dom_classes": [],
      "_model_module": "@jupyter-widgets/controls",
      "_model_module_version": "1.5.0",
      "_model_name": "HBoxModel",
      "_view_count": null,
      "_view_module": "@jupyter-widgets/controls",
      "_view_module_version": "1.5.0",
      "_view_name": "HBoxView",
      "box_style": "",
      "children": [
       "IPY_MODEL_bbf3d0a50e684399a2cb39bd8c8c191a",
       "IPY_MODEL_c88e8760f0fc46b6a3d6ad36a9279582",
       "IPY_MODEL_6acc493349c14b0c85e802cfa04ee391"
      ],
      "layout": "IPY_MODEL_64af58216aaf442da349a258ec957c60"
     }
    },
    "db0a7d45057c4b8da97eb7d6f83940ee": {
     "model_module": "@jupyter-widgets/controls",
     "model_module_version": "1.5.0",
     "model_name": "FloatProgressModel",
     "state": {
      "_dom_classes": [],
      "_model_module": "@jupyter-widgets/controls",
      "_model_module_version": "1.5.0",
      "_model_name": "FloatProgressModel",
      "_view_count": null,
      "_view_module": "@jupyter-widgets/controls",
      "_view_module_version": "1.5.0",
      "_view_name": "ProgressView",
      "bar_style": "success",
      "description": "",
      "description_tooltip": null,
      "layout": "IPY_MODEL_f8fc4b68ef484bc0a131d2d3557a1548",
      "max": 1842764,
      "min": 0,
      "orientation": "horizontal",
      "style": "IPY_MODEL_3843af90408246e5ad16633879aa6275",
      "value": 1842764
     }
    },
    "def8080b1e874c13867236379032162b": {
     "model_module": "@jupyter-widgets/controls",
     "model_module_version": "1.5.0",
     "model_name": "DescriptionStyleModel",
     "state": {
      "_model_module": "@jupyter-widgets/controls",
      "_model_module_version": "1.5.0",
      "_model_name": "DescriptionStyleModel",
      "_view_count": null,
      "_view_module": "@jupyter-widgets/base",
      "_view_module_version": "1.2.0",
      "_view_name": "StyleView",
      "description_width": ""
     }
    },
    "e8698dd43aa748f8b38cff6ecb1094e0": {
     "model_module": "@jupyter-widgets/base",
     "model_module_version": "1.2.0",
     "model_name": "LayoutModel",
     "state": {
      "_model_module": "@jupyter-widgets/base",
      "_model_module_version": "1.2.0",
      "_model_name": "LayoutModel",
      "_view_count": null,
      "_view_module": "@jupyter-widgets/base",
      "_view_module_version": "1.2.0",
      "_view_name": "LayoutView",
      "align_content": null,
      "align_items": null,
      "align_self": null,
      "border": null,
      "bottom": null,
      "display": null,
      "flex": null,
      "flex_flow": null,
      "grid_area": null,
      "grid_auto_columns": null,
      "grid_auto_flow": null,
      "grid_auto_rows": null,
      "grid_column": null,
      "grid_gap": null,
      "grid_row": null,
      "grid_template_areas": null,
      "grid_template_columns": null,
      "grid_template_rows": null,
      "height": null,
      "justify_content": null,
      "justify_items": null,
      "left": null,
      "margin": null,
      "max_height": null,
      "max_width": null,
      "min_height": null,
      "min_width": null,
      "object_fit": null,
      "object_position": null,
      "order": null,
      "overflow": null,
      "overflow_x": null,
      "overflow_y": null,
      "padding": null,
      "right": null,
      "top": null,
      "visibility": null,
      "width": null
     }
    },
    "f61f2d0f24f244b693653bccf5fc9256": {
     "model_module": "@jupyter-widgets/base",
     "model_module_version": "1.2.0",
     "model_name": "LayoutModel",
     "state": {
      "_model_module": "@jupyter-widgets/base",
      "_model_module_version": "1.2.0",
      "_model_name": "LayoutModel",
      "_view_count": null,
      "_view_module": "@jupyter-widgets/base",
      "_view_module_version": "1.2.0",
      "_view_name": "LayoutView",
      "align_content": null,
      "align_items": null,
      "align_self": null,
      "border": null,
      "bottom": null,
      "display": null,
      "flex": null,
      "flex_flow": null,
      "grid_area": null,
      "grid_auto_columns": null,
      "grid_auto_flow": null,
      "grid_auto_rows": null,
      "grid_column": null,
      "grid_gap": null,
      "grid_row": null,
      "grid_template_areas": null,
      "grid_template_columns": null,
      "grid_template_rows": null,
      "height": null,
      "justify_content": null,
      "justify_items": null,
      "left": null,
      "margin": null,
      "max_height": null,
      "max_width": null,
      "min_height": null,
      "min_width": null,
      "object_fit": null,
      "object_position": null,
      "order": null,
      "overflow": null,
      "overflow_x": null,
      "overflow_y": null,
      "padding": null,
      "right": null,
      "top": null,
      "visibility": null,
      "width": null
     }
    },
    "f79ea0e31cdb4835ae9baf9c2e51cde3": {
     "model_module": "@jupyter-widgets/controls",
     "model_module_version": "1.5.0",
     "model_name": "HTMLModel",
     "state": {
      "_dom_classes": [],
      "_model_module": "@jupyter-widgets/controls",
      "_model_module_version": "1.5.0",
      "_model_name": "HTMLModel",
      "_view_count": null,
      "_view_module": "@jupyter-widgets/controls",
      "_view_module_version": "1.5.0",
      "_view_name": "HTMLView",
      "description": "",
      "description_tooltip": null,
      "layout": "IPY_MODEL_44d406b0d268493d8e2d52f4a10a7319",
      "placeholder": "​",
      "style": "IPY_MODEL_0a2175a50c1f4646bfdbb798e207cf95",
      "value": " 1.84M/1.84M [00:00&lt;00:00, 4.56MB/s]"
     }
    },
    "f804b272f3bf4068b66e5b6a6723816d": {
     "model_module": "@jupyter-widgets/controls",
     "model_module_version": "1.5.0",
     "model_name": "ProgressStyleModel",
     "state": {
      "_model_module": "@jupyter-widgets/controls",
      "_model_module_version": "1.5.0",
      "_model_name": "ProgressStyleModel",
      "_view_count": null,
      "_view_module": "@jupyter-widgets/base",
      "_view_module_version": "1.2.0",
      "_view_name": "StyleView",
      "bar_color": null,
      "description_width": ""
     }
    },
    "f8fc4b68ef484bc0a131d2d3557a1548": {
     "model_module": "@jupyter-widgets/base",
     "model_module_version": "1.2.0",
     "model_name": "LayoutModel",
     "state": {
      "_model_module": "@jupyter-widgets/base",
      "_model_module_version": "1.2.0",
      "_model_name": "LayoutModel",
      "_view_count": null,
      "_view_module": "@jupyter-widgets/base",
      "_view_module_version": "1.2.0",
      "_view_name": "LayoutView",
      "align_content": null,
      "align_items": null,
      "align_self": null,
      "border": null,
      "bottom": null,
      "display": null,
      "flex": null,
      "flex_flow": null,
      "grid_area": null,
      "grid_auto_columns": null,
      "grid_auto_flow": null,
      "grid_auto_rows": null,
      "grid_column": null,
      "grid_gap": null,
      "grid_row": null,
      "grid_template_areas": null,
      "grid_template_columns": null,
      "grid_template_rows": null,
      "height": null,
      "justify_content": null,
      "justify_items": null,
      "left": null,
      "margin": null,
      "max_height": null,
      "max_width": null,
      "min_height": null,
      "min_width": null,
      "object_fit": null,
      "object_position": null,
      "order": null,
      "overflow": null,
      "overflow_x": null,
      "overflow_y": null,
      "padding": null,
      "right": null,
      "top": null,
      "visibility": null,
      "width": null
     }
    },
    "f94fca25c6514ca5a99092d12b2ae8b7": {
     "model_module": "@jupyter-widgets/controls",
     "model_module_version": "1.5.0",
     "model_name": "ProgressStyleModel",
     "state": {
      "_model_module": "@jupyter-widgets/controls",
      "_model_module_version": "1.5.0",
      "_model_name": "ProgressStyleModel",
      "_view_count": null,
      "_view_module": "@jupyter-widgets/base",
      "_view_module_version": "1.2.0",
      "_view_name": "StyleView",
      "bar_color": null,
      "description_width": ""
     }
    },
    "fa68ab5ec39746009c26bc9c70f69f4a": {
     "model_module": "@jupyter-widgets/base",
     "model_module_version": "1.2.0",
     "model_name": "LayoutModel",
     "state": {
      "_model_module": "@jupyter-widgets/base",
      "_model_module_version": "1.2.0",
      "_model_name": "LayoutModel",
      "_view_count": null,
      "_view_module": "@jupyter-widgets/base",
      "_view_module_version": "1.2.0",
      "_view_name": "LayoutView",
      "align_content": null,
      "align_items": null,
      "align_self": null,
      "border": null,
      "bottom": null,
      "display": null,
      "flex": null,
      "flex_flow": null,
      "grid_area": null,
      "grid_auto_columns": null,
      "grid_auto_flow": null,
      "grid_auto_rows": null,
      "grid_column": null,
      "grid_gap": null,
      "grid_row": null,
      "grid_template_areas": null,
      "grid_template_columns": null,
      "grid_template_rows": null,
      "height": null,
      "justify_content": null,
      "justify_items": null,
      "left": null,
      "margin": null,
      "max_height": null,
      "max_width": null,
      "min_height": null,
      "min_width": null,
      "object_fit": null,
      "object_position": null,
      "order": null,
      "overflow": null,
      "overflow_x": null,
      "overflow_y": null,
      "padding": null,
      "right": null,
      "top": null,
      "visibility": null,
      "width": null
     }
    },
    "fbfa0f738b0f4947bb48e3e4933a4acb": {
     "model_module": "@jupyter-widgets/controls",
     "model_module_version": "1.5.0",
     "model_name": "HTMLModel",
     "state": {
      "_dom_classes": [],
      "_model_module": "@jupyter-widgets/controls",
      "_model_module_version": "1.5.0",
      "_model_name": "HTMLModel",
      "_view_count": null,
      "_view_module": "@jupyter-widgets/controls",
      "_view_module_version": "1.5.0",
      "_view_name": "HTMLView",
      "description": "",
      "description_tooltip": null,
      "layout": "IPY_MODEL_398b80d23ead49c6a319ef85ae1a3a79",
      "placeholder": "​",
      "style": "IPY_MODEL_d235eebc98a54b67b9cc9f179db0bfed",
      "value": " 132/132 [00:00&lt;00:00, 3.47kB/s]"
     }
    },
    "fd95caf63be24f8b90fc10cf34396389": {
     "model_module": "@jupyter-widgets/base",
     "model_module_version": "1.2.0",
     "model_name": "LayoutModel",
     "state": {
      "_model_module": "@jupyter-widgets/base",
      "_model_module_version": "1.2.0",
      "_model_name": "LayoutModel",
      "_view_count": null,
      "_view_module": "@jupyter-widgets/base",
      "_view_module_version": "1.2.0",
      "_view_name": "LayoutView",
      "align_content": null,
      "align_items": null,
      "align_self": null,
      "border": null,
      "bottom": null,
      "display": null,
      "flex": null,
      "flex_flow": null,
      "grid_area": null,
      "grid_auto_columns": null,
      "grid_auto_flow": null,
      "grid_auto_rows": null,
      "grid_column": null,
      "grid_gap": null,
      "grid_row": null,
      "grid_template_areas": null,
      "grid_template_columns": null,
      "grid_template_rows": null,
      "height": null,
      "justify_content": null,
      "justify_items": null,
      "left": null,
      "margin": null,
      "max_height": null,
      "max_width": null,
      "min_height": null,
      "min_width": null,
      "object_fit": null,
      "object_position": null,
      "order": null,
      "overflow": null,
      "overflow_x": null,
      "overflow_y": null,
      "padding": null,
      "right": null,
      "top": null,
      "visibility": null,
      "width": null
     }
    }
   }
  }
 },
 "nbformat": 4,
 "nbformat_minor": 5
}
